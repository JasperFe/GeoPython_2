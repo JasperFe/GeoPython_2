{
 "cells": [
  {
   "cell_type": "markdown",
   "metadata": {},
   "source": [
    "<p><font size=\"6\"><b>Spatiale bewerkingen: aanmaken van nieuwe geometriën</b></font></p>\n",
    "\n",
    "\n",
    "\n",
    "> *GCCA+ phase 2 - Geopyhton training*  \n",
    "> *June, 2023*\n",
    ">\n",
    "> *© 2023, Jasper Feyen  (<mailto:jasperfeyen@hotmail.com>)*\n",
    "---"
   ]
  },
  {
   "cell_type": "markdown",
   "metadata": {},
   "source": [
    "In het vorige notebook hebben we gezien hoe we ruimtelijke relaties tussen geometrieën kunnen identificeren en gebruiken. In deze noteboek creeëren we nieuwe geometrieën op basis van die relaties."
   ]
  },
  {
   "cell_type": "code",
   "execution_count": null,
   "metadata": {},
   "outputs": [],
   "source": [
    "import pandas as pd\n",
    "import geopandas\n",
    "import matplotlib.pyplot as plt"
   ]
  },
  {
   "cell_type": "code",
   "execution_count": null,
   "metadata": {},
   "outputs": [],
   "source": [
    "countries = geopandas.read_file(\"data/ne_10m_admin_0_countries.zip\")\n",
    "cities = geopandas.read_file(\"data/ne_110m_populated_places.zip\")\n",
    "rivers = geopandas.read_file(\"data/ne_50m_rivers_lake_centerlines.zip\")"
   ]
  },
  {
   "cell_type": "code",
   "execution_count": null,
   "metadata": {},
   "outputs": [],
   "source": [
    "# defining the same example geometries as in the previous notebook\n",
    "suriname = countries.loc[countries['name'] == 'Suriname', 'geometry'].item()\n",
    "paramaribo = cities.loc[cities['name'] == 'Paramaribo', 'geometry'].item()"
   ]
  },
  {
   "cell_type": "markdown",
   "metadata": {},
   "source": [
    "## Spatial operations\n",
    "\n",
    "Next to the spatial predicates that return boolean values, Shapely and GeoPandas also provide operations that return new geometric objects.\n",
    "\n",
    "**Binary operations:**\n",
    "\n",
    "<table><tr>\n",
    "<td> <img src=\"../img/spatial-operations-base.png\"/> </td>\n",
    "<td> <img src=\"../img/spatial-operations-intersection.png\"/> </td>\n",
    "</tr>\n",
    "<tr>\n",
    "<td> <img src=\"../img/spatial-operations-union.png\"/> </td>\n",
    "<td> <img src=\"../img/spatial-operations-difference.png\"/> </td>\n",
    "</tr></table>\n",
    "\n",
    "**Buffer:**\n",
    "\n",
    "<table><tr>\n",
    "<td> <img src=\"../img/spatial-operations-buffer-point1.png\"/> </td>\n",
    "<td> <img src=\"../img/spatial-operations-buffer-point2.png\"/> </td>\n",
    "</tr>\n",
    "<tr>\n",
    "<td> <img src=\"../img/spatial-operations-buffer-line.png\"/> </td>\n",
    "<td> <img src=\"../img/spatial-operations-buffer-polygon.png\"/> </td>\n",
    "</tr></table>\n",
    "\n",
    "\n",
    "See https://shapely.readthedocs.io/en/stable/manual.html#spatial-analysis-methods for more details."
   ]
  },
  {
   "cell_type": "markdown",
   "metadata": {},
   "source": [
    "For example, using the toy data from above, let's construct a buffer around Brussels (which returns a Polygon):"
   ]
  },
  {
   "cell_type": "code",
   "execution_count": null,
   "metadata": {
    "collapsed": false,
    "jupyter": {
     "outputs_hidden": false
    }
   },
   "outputs": [],
   "source": [
    "geopandas.GeoSeries([suriname, paramaribo.buffer(1)]).plot(alpha=0.5, cmap='tab10')"
   ]
  },
  {
   "cell_type": "markdown",
   "metadata": {},
   "source": [
    "and now take the intersection, union or difference of those two polygons:"
   ]
  },
  {
   "cell_type": "code",
   "execution_count": null,
   "metadata": {
    "collapsed": false,
    "jupyter": {
     "outputs_hidden": false
    }
   },
   "outputs": [],
   "source": [
    "paramaribo.buffer(1).intersection(suriname)"
   ]
  },
  {
   "cell_type": "code",
   "execution_count": null,
   "metadata": {
    "collapsed": false,
    "jupyter": {
     "outputs_hidden": false
    }
   },
   "outputs": [],
   "source": [
    "paramaribo.buffer(1).union(suriname)"
   ]
  },
  {
   "cell_type": "code",
   "execution_count": null,
   "metadata": {
    "collapsed": false,
    "jupyter": {
     "outputs_hidden": false
    }
   },
   "outputs": [],
   "source": [
    "paramaribo.buffer(1).difference(suriname)"
   ]
  },
  {
   "cell_type": "markdown",
   "metadata": {
    "tags": []
   },
   "source": [
    "## *Dissolve*\n"
   ]
  },
  {
   "cell_type": "markdown",
   "metadata": {},
   "source": [
    "Met de `dissolve()` methode, kun je verschillende geometriën laten samensmelten, op basis van een gemeenschappelijke kolomattribuut. Zo kunnen we bijvoorbeeld alle landen binnen hetzelfde continent samenvoegen tot één feature. Hierbij wordt beroep gedaan op de *groupby* van pandas. Het argument *aggfunc* bepaalt hoe de verschillende kolommen worden samengesmolten. In dit geval nemen we bijvoorbeeld de som van de populatie."
   ]
  },
  {
   "cell_type": "code",
   "execution_count": null,
   "metadata": {},
   "outputs": [],
   "source": [
    "continents = countries.dissolve(by=\"continent\")"
   ]
  },
  {
   "cell_type": "code",
   "execution_count": null,
   "metadata": {
    "tags": []
   },
   "outputs": [],
   "source": [
    "continents"
   ]
  },
  {
   "cell_type": "markdown",
   "metadata": {},
   "source": [
    "<div class=\"alert alert-info\" style=\"font-size:120%\">\n",
    "\n",
    "**ONTHOUD**:\n",
    "\n",
    "GeoPandas (en Shapely voor de individuele objecten) bieden een hele reeks basismethoden om georuimtelijke gegevens te analyseren (afstand, lengte, zwaartepunt, grens, convex_hull, vereenvoudigen, transformeren, ...), veel meer dan wat we in deze training kunnen behandelen.\n",
    "\n",
    "Een overzicht van alle methoden die door GeoPandas worden geleverd, is te vinden op: https://geopandas.org/en/latest/docs/reference.html\n",
    "\n",
    "\n",
    "</div>"
   ]
  },
  {
   "cell_type": "markdown",
   "metadata": {},
   "source": [
    "## Overlay operation\n",
    "\n",
    "Bij een ruimtelijke samenvoeging (spatial join) veranderen we de geometrieën zelf niet. We voegen geen geometrieën samen, maar voegen attributen samen op basis van een ruimtelijke relatie tussen de geometrieën. Dit betekent ook dat de geometrieën minstens gedeeltelijk moeten overlappen.\n",
    "\n",
    "Als je nieuwe geometrieën wilt maken op basis van het samenvoegen (combineren) van geometrieën van verschillende dataframes in één nieuw dataframe (bijvoorbeeld door de intersectie van de geometrieën te nemen), dan heb je een **overlay**-bewerking nodig."
   ]
  },
  {
   "cell_type": "markdown",
   "metadata": {},
   "source": [
    "### Verschil tussen intersection en overlay"
   ]
  },
  {
   "cell_type": "markdown",
   "metadata": {},
   "source": [
    "Met de `intersection()` methode uit vorig hoofdstuk kunnen we bijvoorbeeld de intersectie tussen een groep landen en een 2e polygoon bepalen, zoals hieronder te zien is \n",
    "<img width=\"70%\" src=\"../img/geopandas/chapter3-overlay-countries-circle-intersection-new.png\"/>"
   ]
  },
  {
   "cell_type": "markdown",
   "metadata": {},
   "source": [
    "Maar deze methode (`countries.intersection(circle)`) heeft echter ook zijn nadelen:\n",
    "\n",
    "* Het is bruikbaar bij een intersectie tussen een GeoSeries/GeoDataFrame en een enkele polygoon\n",
    "* De attributen afkomstig van de overlappende polygoon wordt niet behouden\n",
    "\n",
    "Waar er dus een beetje meer complexiteit is, dan is de \"overlay\" operatie te verkiezen boven de intersectie."
   ]
  },
  {
   "cell_type": "markdown",
   "metadata": {},
   "source": [
    "Laten we het volgende vereenvoudigde voorbeeld eens bekijken. Aan de linkerkant zien we opnieuw de 3 landen. Aan de rechterkant hebben we de weergave van een GeoDataFrame met enkele vereenvoudigde geologische regio's voor hetzelfde gebied:\n",
    "\n",
    "<table width=\"80%\"><tr>\n",
    "<td> <img src=\"../img/geopandas/chapter3-overlay-countries.png\"/> </td>\n",
    "<td> <img src=\"../img/geopandas/chapter3-overlay-regions.png\"/> </td>\n",
    "</tr></table>\n",
    "Door ze eenvoudigweg op elkaar te plotten, zoals hieronder weergegeven, is te zien dat de polygonen van beide lagen elkaar overlappen.\n",
    "\n",
    "Maar door de twee lagen \"te overlayen\" kunnen we een derde laag creëren die het resultaat bevat van het snijden van beide lagen: namelijk alle gebieden waarin zowel elk land als elke geologische regio overlappen. Alleen de gebieden die in beide lagen voorkomen, worden behouden.\n",
    "\n",
    "<table width=\"80%\"><tr>\n",
    "<td> <img src=\"../img/geopandas/chapter3-overlay-both.png\"/> </td>\n",
    "<td> <img src=\"../img/geopandas/chapter3-overlay-overlayed.png\"/> </td>\n",
    "</tr></table>\n",
    "\n",
    "Deze operatie is een 'intersection'-overlay, die we in geopandas met de `geopandas.overlay()` functie kunnen aanspreken."
   ]
  },
  {
   "cell_type": "markdown",
   "metadata": {},
   "source": [
    "Een ander voorbeeld"
   ]
  },
  {
   "cell_type": "code",
   "execution_count": null,
   "metadata": {},
   "outputs": [],
   "source": [
    "africa = countries[countries['continent'] == 'Africa']"
   ]
  },
  {
   "cell_type": "code",
   "execution_count": null,
   "metadata": {
    "collapsed": false,
    "jupyter": {
     "outputs_hidden": false
    }
   },
   "outputs": [],
   "source": [
    "africa.plot()"
   ]
  },
  {
   "cell_type": "code",
   "execution_count": null,
   "metadata": {
    "collapsed": false,
    "jupyter": {
     "outputs_hidden": false
    }
   },
   "outputs": [],
   "source": [
    "cities['geometry'] = cities.buffer(2)"
   ]
  },
  {
   "cell_type": "code",
   "execution_count": null,
   "metadata": {
    "collapsed": false,
    "jupyter": {
     "outputs_hidden": false
    }
   },
   "outputs": [],
   "source": [
    "intersection = geopandas.overlay(africa, cities, how='intersection')\n",
    "intersection.plot()"
   ]
  },
  {
   "cell_type": "code",
   "execution_count": null,
   "metadata": {
    "collapsed": false,
    "jupyter": {
     "outputs_hidden": false
    }
   },
   "outputs": [],
   "source": [
    "intersection.head()"
   ]
  },
  {
   "cell_type": "markdown",
   "metadata": {},
   "source": [
    "Met de overlay-methode geven we de volledige GeoDataFrame mee met alle regio's om de landen mee te snijden. Het resultaat bevat alle niet-lege snijpunten van alle combinaties van landen en stadsregio's.\n",
    "\n",
    "Merk op dat het resultaat van de overlay-functie ook de attribuutinformatie van zowel de landen als de stadsregio's behoudt. Dat kan zeer nuttig zijn voor verdere analyse."
   ]
  },
  {
   "cell_type": "code",
   "execution_count": null,
   "metadata": {
    "collapsed": false,
    "jupyter": {
     "outputs_hidden": false
    }
   },
   "outputs": [],
   "source": [
    "geopandas.overlay(africa, cities, how='intersection').plot()  # how=\"difference\"/\"union\"/\"symmetric_difference\""
   ]
  },
  {
   "cell_type": "code",
   "execution_count": null,
   "metadata": {
    "tags": []
   },
   "outputs": [],
   "source": [
    "# Indien we dit met de intersection methode hadden opgelost:\n",
    "africa.intersection(cities).plot()"
   ]
  },
  {
   "cell_type": "markdown",
   "metadata": {},
   "source": [
    "<div class=\"alert alert-info\" style=\"font-size:120%\">\n",
    "<b>REMEMBER</b> <br>\n",
    "\n",
    "* **Spatial join**: overdragen van attributen van het ene dataframe naar het andere op basis van de ruimtelijke relatie\n",
    "\n",
    "* **Spatial overlay**: construeren van nieuwe geometrieën op basis van ruimtelijke bewerkingen tussen beide dataframes (en het combineren van attributen van beide dataframes).\n",
    "</div>"
   ]
  },
  {
   "cell_type": "markdown",
   "metadata": {},
   "source": [
    "## OEFENINGEN"
   ]
  },
  {
   "cell_type": "markdown",
   "metadata": {},
   "source": [
    "<div class=\"alert alert-success\">\n",
    "\n",
    "**EXERCISE 6: Overlaying spatial datasets I**\n",
    "\n",
    "We will now combine both datasets in an overlay operation. Create a new `GeoDataFrame` consisting of the intersection of the land use polygons which each of the districts, but make sure to bring the attribute data from both source layers.\n",
    "\n",
    "* Create a new GeoDataFrame from the intersections of `land_use` and `districts`. Assign the result to a variable `combined`.\n",
    "* Print the first rows the resulting GeoDataFrame (`combined`).\n",
    "\n",
    "<details><summary>Hints</summary>\n",
    "\n",
    "* The intersection of two GeoDataFrames can be calculated with the `geopandas.overlay()` function.\n",
    "* The `overlay()` functions takes first the two GeoDataFrames to combine, and a third `how` keyword indicating how to combine the two layers.\n",
    "* For making an overlay based on the intersection, you can pass `how='intersection'`.\n",
    "* The default `overlay()` call will generate a warning because some of the intersections result in a point or linestring, and thus not in a new polygon. For this exercise, we are only interested in the resulting polygons, and therefore we set `keep_geom_type=True` to suppress the warning and say to `overlay()` we only need the resulting geometries of the same type as the original geometries (thus, only polygons).\n",
    "\n",
    "</details>\n",
    "\n",
    "</div>"
   ]
  },
  {
   "cell_type": "code",
   "execution_count": null,
   "metadata": {},
   "outputs": [],
   "source": [
    "land_use = geopandas.read_file(\"data/paris_land_use.zip\")\n",
    "districts = geopandas.read_file(\"data/paris_districts.geojson\").to_crs(land_use.crs)"
   ]
  },
  {
   "cell_type": "code",
   "execution_count": null,
   "metadata": {
    "tags": [
     "nbtutor-solution"
    ]
   },
   "outputs": [],
   "source": [
    "# %load _solutions/05-spatial-operations-overlays21.py"
   ]
  },
  {
   "cell_type": "code",
   "execution_count": null,
   "metadata": {
    "collapsed": false,
    "jupyter": {
     "outputs_hidden": false
    },
    "tags": [
     "nbtutor-solution"
    ]
   },
   "outputs": [],
   "source": [
    "# %load _solutions/05-spatial-operations-overlays22.py"
   ]
  },
  {
   "cell_type": "markdown",
   "metadata": {},
   "source": [
    "<div class=\"alert alert-success\">\n",
    "\n",
    "**EXERCISE 7: Overlaying spatial datasets II**\n",
    "\n",
    "Now that we created the overlay of the land use and districts datasets, we can more easily inspect the land use for the different districts. Let's get back to the example district of Muette, and inspect the land use of that district.\n",
    "\n",
    "* Add a new column `'area'` with the area of each polygon to the `combined` GeoDataFrame.\n",
    "* Create a subset called `land_use_muette` where the `'district_name'` is equal to \"Muette\".\n",
    "* Make a plot of `land_use_muette`, using the `'class'` column to color the polygons.\n",
    "* Calculate the total area for each `'class'` of `land_use_muette` using the `groupby()` method, and print the result.\n",
    "\n",
    "<details><summary>Hints</summary>\n",
    "\n",
    "* The area of each geometry can be accessed with the `area` attribute of the `geometry` of the GeoDataFrame.\n",
    "* To use a column to color the geometries, pass its name to the `column` keyword.\n",
    "* The `groupby()` method takes the column name on which you want to group as the first argument.\n",
    "* The total area for each class can be calculated by taking the `sum()` of the area.\n",
    "\n",
    "</details>\n",
    "\n",
    "</div>"
   ]
  },
  {
   "cell_type": "code",
   "execution_count": null,
   "metadata": {
    "tags": [
     "nbtutor-solution"
    ]
   },
   "outputs": [],
   "source": [
    "# %load _solutions/05-spatial-operations-overlays23.py"
   ]
  },
  {
   "cell_type": "code",
   "execution_count": null,
   "metadata": {
    "tags": [
     "nbtutor-solution"
    ]
   },
   "outputs": [],
   "source": [
    "# %load _solutions/05-spatial-operations-overlays24.py"
   ]
  },
  {
   "cell_type": "code",
   "execution_count": null,
   "metadata": {
    "collapsed": false,
    "jupyter": {
     "outputs_hidden": false
    },
    "tags": [
     "nbtutor-solution"
    ]
   },
   "outputs": [],
   "source": [
    "# %load _solutions/05-spatial-operations-overlays25.py"
   ]
  },
  {
   "cell_type": "code",
   "execution_count": null,
   "metadata": {
    "collapsed": false,
    "jupyter": {
     "outputs_hidden": false
    },
    "tags": [
     "nbtutor-solution"
    ]
   },
   "outputs": [],
   "source": [
    "# %load _solutions/05-spatial-operations-overlays26.py"
   ]
  },
  {
   "cell_type": "markdown",
   "metadata": {},
   "source": [
    "<div class=\"alert alert-success\">\n",
    "\n",
    "**EXERCISE 8: Overlaying spatial datasets III**\n",
    "\n",
    "Thanks to the result of the overlay operation, we can now more easily perform a similar analysis for *all* districts. Let's investigate the fraction of green urban area in each of the districts.\n",
    "\n",
    "* Based on the `combined` dataset, calculate the total area per district using `groupby()`.\n",
    "* Select the subset of \"Green urban areas\" from `combined` and call this `urban_green`.\n",
    "* Now calculate the total area per district for this `urban_green` subset, and call this `urban_green_area`.\n",
    "* Determine the fraction of urban green area in each district.\n",
    "\n",
    "</div>"
   ]
  },
  {
   "cell_type": "code",
   "execution_count": null,
   "metadata": {
    "collapsed": false,
    "jupyter": {
     "outputs_hidden": false
    },
    "tags": [
     "nbtutor-solution"
    ]
   },
   "outputs": [],
   "source": [
    "# %load _solutions/05-spatial-operations-overlays27.py"
   ]
  },
  {
   "cell_type": "code",
   "execution_count": null,
   "metadata": {
    "tags": [
     "nbtutor-solution"
    ]
   },
   "outputs": [],
   "source": [
    "# %load _solutions/05-spatial-operations-overlays28.py"
   ]
  },
  {
   "cell_type": "code",
   "execution_count": null,
   "metadata": {
    "collapsed": false,
    "jupyter": {
     "outputs_hidden": false
    },
    "tags": [
     "nbtutor-solution"
    ]
   },
   "outputs": [],
   "source": [
    "# %load _solutions/05-spatial-operations-overlays29.py"
   ]
  },
  {
   "cell_type": "code",
   "execution_count": null,
   "metadata": {
    "tags": [
     "nbtutor-solution"
    ]
   },
   "outputs": [],
   "source": [
    "# %load _solutions/05-spatial-operations-overlays30.py"
   ]
  },
  {
   "cell_type": "code",
   "execution_count": null,
   "metadata": {
    "collapsed": false,
    "jupyter": {
     "outputs_hidden": false
    },
    "tags": [
     "nbtutor-solution"
    ]
   },
   "outputs": [],
   "source": [
    "# %load _solutions/05-spatial-operations-overlays31.py"
   ]
  },
  {
   "cell_type": "code",
   "execution_count": null,
   "metadata": {
    "collapsed": false,
    "jupyter": {
     "outputs_hidden": false
    },
    "tags": [
     "nbtutor-solution"
    ]
   },
   "outputs": [],
   "source": [
    "# %load _solutions/05-spatial-operations-overlays32.py"
   ]
  },
  {
   "cell_type": "markdown",
   "metadata": {},
   "source": [
    "An alternative to calculate the area per land use class in each district:"
   ]
  },
  {
   "cell_type": "code",
   "execution_count": null,
   "metadata": {
    "collapsed": false,
    "jupyter": {
     "outputs_hidden": false
    }
   },
   "outputs": [],
   "source": [
    "combined.groupby([\"district_name\", \"class\"])[\"area\"].sum().reset_index()"
   ]
  },
  {
   "cell_type": "code",
   "execution_count": null,
   "metadata": {},
   "outputs": [],
   "source": []
  }
 ],
 "metadata": {
  "celltoolbar": "Nbtutor - export exercises",
  "jupytext": {
   "cell_metadata_filter": "-run_control,-deletable,-editable,-jupyter,-slideshow"
  },
  "kernelspec": {
   "display_name": "Python 3 (ipykernel)",
   "language": "python",
   "name": "python3"
  },
  "language_info": {
   "codemirror_mode": {
    "name": "ipython",
    "version": 3
   },
   "file_extension": ".py",
   "mimetype": "text/x-python",
   "name": "python",
   "nbconvert_exporter": "python",
   "pygments_lexer": "ipython3",
   "version": "3.10.11"
  },
  "widgets": {
   "application/vnd.jupyter.widget-state+json": {
    "state": {},
    "version_major": 2,
    "version_minor": 0
   }
  }
 },
 "nbformat": 4,
 "nbformat_minor": 4
}
