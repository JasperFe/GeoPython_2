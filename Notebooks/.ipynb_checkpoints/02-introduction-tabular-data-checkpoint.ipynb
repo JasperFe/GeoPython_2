{
 "cells": [
  {
   "cell_type": "markdown",
   "metadata": {},
   "source": [
    "<p><font size=\"6\"><b> Introductie tot Pandas</b></font></p>\n",
    "\n",
    "\n",
    "\n",
    "> *GCCA+ phase 2 - Geopyhton training*  \n",
    "> *June, 2023*\n",
    ">\n",
    "> *© 2023, Jasper Feyen  (<mailto:jasperfeyen@hotmail.com>)*\n",
    "---"
   ]
  },
  {
   "cell_type": "markdown",
   "metadata": {},
   "source": [
    "## Werken met tabulaire gegevens met behulp van Pandas"
   ]
  },
  {
   "cell_type": "markdown",
   "metadata": {},
   "source": [
    "Om het pandas-pakket te laden en ermee te werken, importeren we eerst het pakket. De conventionele alias voor pandas, zoals afgesproken binnen de community, is `pd`, en dat zullen we hier ook gebruiken."
   ]
  },
  {
   "cell_type": "code",
   "execution_count": null,
   "metadata": {
    "tags": []
   },
   "outputs": [],
   "source": [
    "# We importeren pandas, en gebruiken de pd afkortin\n",
    "import pandas as pd"
   ]
  },
  {
   "cell_type": "markdown",
   "metadata": {},
   "source": [
    "Laat ons een eerste tabel inladen! Pandas staat toe om verschillende types aan data in te lezen (excel, csv, txt, ...). \n",
    "\n",
    "Hier laden we plotdata in van de mangrove-inventaris uit 2019 (dummy data)."
   ]
  },
  {
   "cell_type": "code",
   "execution_count": null,
   "metadata": {
    "tags": []
   },
   "outputs": [],
   "source": [
    "plotdata = pd.read_csv(\"data/Mangrove_2019.csv\")"
   ]
  },
  {
   "cell_type": "code",
   "execution_count": null,
   "metadata": {
    "tags": []
   },
   "outputs": [],
   "source": [
    "plotdata"
   ]
  },
  {
   "cell_type": "markdown",
   "metadata": {},
   "source": [
    "De tabel hierboven is een **DataFrame**:"
   ]
  },
  {
   "cell_type": "code",
   "execution_count": null,
   "metadata": {
    "collapsed": false,
    "jupyter": {
     "outputs_hidden": false
    },
    "tags": []
   },
   "outputs": [],
   "source": [
    "type(plotdata)"
   ]
  },
  {
   "cell_type": "markdown",
   "metadata": {},
   "source": [
    "Een `DataFrame` is a 2-dimensionaal, **tablular data structure** bestaand uit rijen en kolommen. Het is gelijkaardig aan een spreadsheet, database (SQL) tabel of een data.frame in R.\n",
    "\n",
    "<img align=\"center\" width=50% src=\"../img/pandas/01_table_dataframe1.svg\">"
   ]
  },
  {
   "cell_type": "markdown",
   "metadata": {},
   "source": [
    "Een DataFrame kan data bevatten van verschillende types types (including *character*, *integers*, *floating point values*, *categorical data* and more) in columns. In pandas kan het datatype met de `dtypes` attribuut worden bekeken:"
   ]
  },
  {
   "cell_type": "code",
   "execution_count": null,
   "metadata": {
    "collapsed": false,
    "jupyter": {
     "outputs_hidden": false
    }
   },
   "outputs": [],
   "source": [
    "plotdata.dtypes"
   ]
  },
  {
   "cell_type": "markdown",
   "metadata": {},
   "source": [
    "### Elke kolom uit een `DataFrame` is een `Series`\n",
    "\n",
    "Wanneer je een kolom selecteert uit een `DataFrame`, bekom je een pandas `Series`: een 1-dimensionale structuur\n",
    "\n",
    "Om een kolom te selecteren, maak je gebruik van rechthoekige haakjes, zoals hieronder `[]`. De kolomnaam, is steeds een 'string', en dien je met enkele haakjes aan te geven"
   ]
  },
  {
   "cell_type": "code",
   "execution_count": null,
   "metadata": {
    "collapsed": false,
    "jupyter": {
     "outputs_hidden": false
    }
   },
   "outputs": [],
   "source": [
    "plotdata['AGB_Mg']"
   ]
  },
  {
   "cell_type": "markdown",
   "metadata": {},
   "source": [
    "We kunnen deze Series ook opslaan onder een nieuwe variabelenaam"
   ]
  },
  {
   "cell_type": "code",
   "execution_count": null,
   "metadata": {
    "collapsed": false,
    "jupyter": {
     "outputs_hidden": false
    }
   },
   "outputs": [],
   "source": [
    "agb = plotdata['AGB_Mg']\n",
    "type(agb)"
   ]
  },
  {
   "cell_type": "markdown",
   "metadata": {},
   "source": [
    "### Pandas objecten hebben *attributen* en *methods*\n",
    "\n",
    "Pandas biedt veel functionaliteiten voor DataFrame en Series. Het `.dtypes` dat hierboven wordt getoond, is een attribuut van het DataFrame. Daarnaast zijn er ook functies die kunnen worden aangeroepen op een DataFrame of Series, dit zijn *methods*. Aangezien *methods* functies zijn, vergeet niet haakjes () te gebruiken om ze aan te roepen.\n",
    "\n",
    "Enkele voorbeelden die kunnen helpen bij het verkennen van de gegevens:"
   ]
  },
  {
   "cell_type": "code",
   "execution_count": null,
   "metadata": {
    "collapsed": false,
    "jupyter": {
     "outputs_hidden": false
    }
   },
   "outputs": [],
   "source": [
    "plotdata.head() # Bovenste rijen afzonder = method"
   ]
  },
  {
   "cell_type": "code",
   "execution_count": null,
   "metadata": {
    "collapsed": false,
    "jupyter": {
     "outputs_hidden": false
    }
   },
   "outputs": [],
   "source": [
    "plotdata.tail() # Onderste rijen"
   ]
  },
  {
   "cell_type": "markdown",
   "metadata": {},
   "source": [
    "De ``describe`` method berekend statistieken van een bepaalde kolom"
   ]
  },
  {
   "cell_type": "code",
   "execution_count": null,
   "metadata": {
    "collapsed": false,
    "jupyter": {
     "outputs_hidden": false
    }
   },
   "outputs": [],
   "source": [
    "countries['AGB_Mg'].describe()"
   ]
  },
  {
   "cell_type": "markdown",
   "metadata": {},
   "source": [
    "**Sort**eren van je data kan via een specifieke kolom met `.sort_values()`.\n",
    "\n",
    "In deze functie heb je het argument *by* dat aangeeft op welke kolom er moet gesorteerd worden"
   ]
  },
  {
   "cell_type": "code",
   "execution_count": null,
   "metadata": {
    "collapsed": false,
    "jupyter": {
     "outputs_hidden": false
    }
   },
   "outputs": [],
   "source": [
    "plotdata.sort_values(by='AGB_Mg')"
   ]
  },
  {
   "cell_type": "markdown",
   "metadata": {},
   "source": [
    "<div class=\"alert alert-success\">\n",
    "\n",
    "**OEFENING**:\n",
    "\n",
    "* Sorteer de dataset eens op basis van 'Sampling Unit' (SU)"
   ]
  },
  {
   "cell_type": "markdown",
   "metadata": {},
   "source": [
    "## Basis operaties op Series en DataFrames"
   ]
  },
  {
   "cell_type": "markdown",
   "metadata": {},
   "source": [
    "### Elementsgewijze-operaties"
   ]
  },
  {
   "cell_type": "markdown",
   "metadata": {},
   "source": [
    "De typische operatoren (+, -, \\*, /) en vergelijkingen (==, >, <, ...) werken *element-wise*.\n",
    "\n",
    "Dit wilt zeggen: voor elke rij (= element) wordt dit toegepast"
   ]
  },
  {
   "cell_type": "code",
   "execution_count": null,
   "metadata": {
    "tags": []
   },
   "outputs": [],
   "source": [
    "# We slaan de eerste 5 biomassawaarden op als agb"
   ]
  },
  {
   "cell_type": "code",
   "execution_count": null,
   "metadata": {
    "collapsed": false,
    "jupyter": {
     "outputs_hidden": false
    }
   },
   "outputs": [],
   "source": [
    "agb = plotdata['AGB_Mg'].head()\n",
    "agb"
   ]
  },
  {
   "cell_type": "markdown",
   "metadata": {},
   "source": [
    "Deel de AGB-waarden door 1000"
   ]
  },
  {
   "cell_type": "code",
   "execution_count": null,
   "metadata": {
    "collapsed": false,
    "jupyter": {
     "outputs_hidden": false
    }
   },
   "outputs": [],
   "source": [
    "agb / 1000"
   ]
  },
  {
   "cell_type": "markdown",
   "metadata": {},
   "source": [
    "Rijen waar AGB groter is dat 12 Mg"
   ]
  },
  {
   "cell_type": "code",
   "execution_count": null,
   "metadata": {
    "collapsed": false,
    "jupyter": {
     "outputs_hidden": false
    }
   },
   "outputs": [],
   "source": [
    "agb > 12"
   ]
  },
  {
   "cell_type": "markdown",
   "metadata": {},
   "source": [
    "Er kan ook gerekend worden met de Series zelf, bijvoorbeeld de som van 2 kolommen nemen:"
   ]
  },
  {
   "cell_type": "code",
   "execution_count": null,
   "metadata": {
    "collapsed": false,
    "jupyter": {
     "outputs_hidden": false
    }
   },
   "outputs": [],
   "source": [
    "# som van aantal Rhizopora en Avicennia bomen\n",
    "plotdata['Rhizopora_count'] + plotdata['Avicennia_count']"
   ]
  },
  {
   "cell_type": "markdown",
   "metadata": {},
   "source": [
    "### Aggregaties (reducties)"
   ]
  },
  {
   "cell_type": "markdown",
   "metadata": {},
   "source": [
    "Pandas biedt een uitgebreide set van **summary statistics** aan die werken op verschillende soorten pandas-objecten (DataFrames, Series, Index) en een enkele waarde produceren. Wanneer deze functies worden toegepast op een DataFrame, wordt het resultaat teruggegeven als een pandas Series (één waarde voor elke kolom)."
   ]
  },
  {
   "cell_type": "markdown",
   "metadata": {},
   "source": [
    "De gemiddelde bovengroendse biomassa-waarde over alle plotlocaties heen:"
   ]
  },
  {
   "cell_type": "code",
   "execution_count": null,
   "metadata": {
    "collapsed": false,
    "jupyter": {
     "outputs_hidden": false
    }
   },
   "outputs": [],
   "source": [
    "agb.mean()"
   ]
  },
  {
   "cell_type": "markdown",
   "metadata": {},
   "source": [
    "De maximale AGB waarde:"
   ]
  },
  {
   "cell_type": "code",
   "execution_count": null,
   "metadata": {
    "collapsed": false,
    "jupyter": {
     "outputs_hidden": false
    }
   },
   "outputs": [],
   "source": [
    "plotdata['AGB_Mg'].max()"
   ]
  },
  {
   "cell_type": "markdown",
   "metadata": {},
   "source": [
    "Je kunt dit ook toepassen op de volledige DataBase. Hierbij neem je enkel de kolommen in rekening met numerieke waarden:"
   ]
  },
  {
   "cell_type": "code",
   "execution_count": null,
   "metadata": {
    "collapsed": false,
    "jupyter": {
     "outputs_hidden": false
    }
   },
   "outputs": [],
   "source": [
    "plotdata.median(numeric_only=True)"
   ]
  },
  {
   "cell_type": "markdown",
   "metadata": {},
   "source": [
    "### Toevoegen van een nieuwe kolom aan je DataFrame\n",
    "\n",
    "We kunnen een nieuwe kolom toevoegen aan een DataFrame met een vergelijkbare syntaxis als het selecteren van een kolom: we creëren een nieuwe kolom door de output toe te wijzen aan het DataFrame met een nieuwe kolomnaam tussen de `[]`.\n",
    "\n",
    "Bijvoorbeeld; we berekenen het totaal aantal bomen door de som te nemen van de Avicennia en Rhizopora bomen, en wijzen die toe aan een nieuwe kolom `total_trees`"
   ]
  },
  {
   "cell_type": "code",
   "execution_count": null,
   "metadata": {},
   "outputs": [],
   "source": [
    "plotdata['total_trees'] = plotdata['Avicennia_count'] + plotdata['Rhizopora_count']"
   ]
  },
  {
   "cell_type": "code",
   "execution_count": null,
   "metadata": {
    "collapsed": false,
    "jupyter": {
     "outputs_hidden": false
    }
   },
   "outputs": [],
   "source": [
    "# Een nieuwe kolom is toegevoegd\n",
    "plotdata.head()"
   ]
  },
  {
   "cell_type": "markdown",
   "metadata": {},
   "source": [
    "## Indexering: maken van een subset van de data"
   ]
  },
  {
   "cell_type": "markdown",
   "metadata": {},
   "source": [
    "### Subset van variabelen (kolommen)"
   ]
  },
  {
   "cell_type": "markdown",
   "metadata": {},
   "source": [
    "Selecteren van een **enkele kolom**:"
   ]
  },
  {
   "cell_type": "code",
   "execution_count": null,
   "metadata": {
    "collapsed": false,
    "jupyter": {
     "outputs_hidden": false
    }
   },
   "outputs": [],
   "source": [
    "plotdata['AGB_Mg'] # single []"
   ]
  },
  {
   "cell_type": "markdown",
   "metadata": {},
   "source": [
    "Deze syntax kan ook gebruikt worden om nieuwe kolommen toe te voegen, zoals we al gedaan hebben: `df['new'] = ...`.\n",
    "\n",
    "Het is ook mogelijk om **meerdere kolommen** te selecteren op basis van een lijst van kolomnamen `[]`:"
   ]
  },
  {
   "cell_type": "code",
   "execution_count": null,
   "metadata": {
    "collapsed": false,
    "jupyter": {
     "outputs_hidden": false
    }
   },
   "outputs": [],
   "source": [
    "plotdata[['id_plot', 'AGB_Mg']] # double [[]], want je maakt gebruik van een lijst van kolomnamen"
   ]
  },
  {
   "cell_type": "markdown",
   "metadata": {
    "tags": []
   },
   "source": [
    "### Subset van observaties (rijen)"
   ]
  },
  {
   "cell_type": "markdown",
   "metadata": {},
   "source": [
    "MEt `[]`, kun je rijen afzonderen. Dit wordt in pandas-termen *slicing* genoemd:"
   ]
  },
  {
   "cell_type": "markdown",
   "metadata": {},
   "source": [
    "### Slicing"
   ]
  },
  {
   "cell_type": "code",
   "execution_count": null,
   "metadata": {
    "collapsed": false,
    "jupyter": {
     "outputs_hidden": false
    }
   },
   "outputs": [],
   "source": [
    "plotdata[0:4] #Eerste 4 rijen"
   ]
  },
  {
   "cell_type": "markdown",
   "metadata": {},
   "source": [
    "### Boolean indexing (filteren)"
   ]
  },
  {
   "cell_type": "markdown",
   "metadata": {},
   "source": [
    "Heel vaak wil je je tabel filteren op basis van een bepaalde voorwaarde. Om dit te doen gebruiken we het fenomeen van *'boolean indexing'* \n",
    "\n",
    "Een boolean mask is een 1-D series, die dezelfde lengte moet hebben als de dataframe die je gaat filteren."
   ]
  },
  {
   "cell_type": "code",
   "execution_count": null,
   "metadata": {
    "collapsed": false,
    "jupyter": {
     "outputs_hidden": false
    }
   },
   "outputs": [],
   "source": [
    "# we nemen de eerste 5 rijen, om een eenvoudiger overicht te krijgen\n",
    "df = plotdata.head()\n",
    "df"
   ]
  },
  {
   "cell_type": "markdown",
   "metadata": {},
   "source": [
    "Ter illustratie willen we enkel de plotlocaties afzonderen waar zwarte mangrove voorkomt (*Avicennia count* bevat het aantal zwarte mangrovebomen geteld in de plot)."
   ]
  },
  {
   "cell_type": "code",
   "execution_count": null,
   "metadata": {
    "collapsed": false,
    "jupyter": {
     "outputs_hidden": false
    }
   },
   "outputs": [],
   "source": [
    "# Nagaan waar \n",
    "mask = df['Avicennia_count'] > 0\n",
    "mask"
   ]
  },
  {
   "cell_type": "markdown",
   "metadata": {},
   "source": [
    "Deze *mask* kunnen we nu gebruiken om de rijen waar Avicennia voorkomt af te zonderen"
   ]
  },
  {
   "cell_type": "code",
   "execution_count": null,
   "metadata": {
    "collapsed": false,
    "jupyter": {
     "outputs_hidden": false
    }
   },
   "outputs": [],
   "source": [
    "df[mask]"
   ]
  },
  {
   "cell_type": "code",
   "execution_count": null,
   "metadata": {
    "collapsed": false,
    "jupyter": {
     "outputs_hidden": false
    }
   },
   "outputs": [],
   "source": [
    "# Dit kan ook in één stap\n",
    "df[df['Avicennia_count'] > 0]"
   ]
  },
  {
   "cell_type": "markdown",
   "metadata": {},
   "source": [
    "Nog een oefening:\n",
    "\n",
    "Zoek de plotlocaties in de volledige dataset waar rode mangrove aanwezig is:"
   ]
  },
  {
   "cell_type": "code",
   "execution_count": null,
   "metadata": {
    "collapsed": false,
    "jupyter": {
     "outputs_hidden": false
    }
   },
   "outputs": [],
   "source": [
    "plotdata[plotdata['Rhizopora_count'] > 0]"
   ]
  },
  {
   "cell_type": "markdown",
   "metadata": {},
   "source": [
    "<div class=\"alert alert-success\">\n",
    "\n",
    "**OEFENING 1**:\n",
    "\n",
    "* Maak een nieuwe dataframe aan, met enkel de plotdata van Sampling Unit 15 (SU), op basis van Boolean filterin\n",
    "\n",
    "<details>\n",
    "  <summary>Hints</summary>\n",
    "\n",
    "* Hier maken we gebruik van ==\n",
    "\n",
    "</details>\n",
    "    \n",
    "</div>"
   ]
  },
  {
   "cell_type": "code",
   "execution_count": null,
   "metadata": {
    "collapsed": false,
    "jupyter": {
     "outputs_hidden": false
    }
   },
   "outputs": [],
   "source": [
    "# %load _solutions\\02-introduction-pandas_1.py"
   ]
  },
  {
   "cell_type": "markdown",
   "metadata": {},
   "source": [
    "Een overzicht met alle mogelijke operatoren:\n",
    "\n",
    "Operator   |  Description\n",
    "------ | --------\n",
    "==       | Equal\n",
    "!=       | Not equal\n",
    "\\>       | Greater than\n",
    "\\>=       | Greater than or equal\n",
    "<       | Lesser than\n",
    "<=       | Lesser than or equal\n",
    "\n",
    "En voor het combineren van meerdere condities\n",
    "\n",
    "Operator   |  Description\n",
    "------ | --------\n",
    "&       | And (`cond1 & cond2`)\n",
    "\\|       | Or (`cond1 \\| cond2`)"
   ]
  },
  {
   "cell_type": "markdown",
   "metadata": {},
   "source": [
    "Voorbeeld van het combineren van condities: selectieren van SU15 PSP 1:"
   ]
  },
  {
   "cell_type": "code",
   "execution_count": null,
   "metadata": {
    "tags": []
   },
   "outputs": [],
   "source": [
    "plotdata[(plotdata['SU']==15) & (plotdata['PSP']==1)]"
   ]
  },
  {
   "cell_type": "markdown",
   "metadata": {},
   "source": [
    "<div class=\"alert alert-info\" style=\"font-size:120%\">\n",
    "<b>ONTHOUD</b>: <br><br>\n",
    "\n",
    "Vierkante haakjes, `[]`worden gebruikt voor:\n",
    "\n",
    "* **Series**: selecteren op basis van een **label**: `s[label]`\n",
    "* **DataFrame**: selecteren van één of meerdere **kolommen**:`df['col']` or `df[['col1', 'col2']]`\n",
    "* **DataFrame**: slicing of filteren van **rijen**: `df['row_label1':'row_label2']` of `df[mask]`\n",
    "\n",
    "</div>"
   ]
  },
  {
   "cell_type": "markdown",
   "metadata": {
    "tags": []
   },
   "source": [
    "## Oefeningen\n",
    "\n",
    "We beschikken over volgende dataset: een lijst met landen in `countries.csv`"
   ]
  },
  {
   "cell_type": "markdown",
   "metadata": {},
   "source": [
    "<div class=\"alert alert-success\">\n",
    "\n",
    "**OEFENING 1**:\n",
    "\n",
    "* Lees de datast `data/countries.csv` file, en maak hier een nieuwe DataFrame voor aan met de naam `countries`.\n",
    "* Bekijk de eerste rijen via de .head() methode\n",
    "\n",
    "<details>\n",
    "  <summary>Hints</summary>\n",
    "\n",
    "* Om een CSV file in te lezen, gebruiken we de `pd.read_csv()` functie. Het eerste argument is de filelocatie.\n",
    "\n",
    "</details>\n",
    "    \n",
    "</div>"
   ]
  },
  {
   "cell_type": "code",
   "execution_count": null,
   "metadata": {
    "tags": [
     "nbtutor-solution"
    ]
   },
   "outputs": [],
   "source": [
    "# %load _solutions\\02-introduction-pandas_2.py\n"
   ]
  },
  {
   "cell_type": "code",
   "execution_count": null,
   "metadata": {
    "collapsed": false,
    "jupyter": {
     "outputs_hidden": false
    },
    "tags": [
     "nbtutor-solution"
    ]
   },
   "outputs": [],
   "source": [
    "# %load _solutions\\02-introduction-pandas_3.py"
   ]
  },
  {
   "cell_type": "markdown",
   "metadata": {},
   "source": [
    "<div class=\"alert alert-success\">\n",
    "\n",
    "**OEFENING 2**:\n",
    "\n",
    "* Wat is de gemiddelde populatie van alle landen?\n",
    "* En wat is de mediaan?\n",
    "\n",
    "<details>\n",
    "  <summary>Hints</summary>\n",
    "\n",
    "* De kolom `pop_est` bevat de populatie per land\n",
    "* Het gemiddelde van een kolom kan berekend worden met de `mean()` method.\n",
    "* Het selecteren van een enkele kolom: `df['colname']`.\n",
    "\n",
    "</details>\n",
    "    \n",
    "</div>"
   ]
  },
  {
   "cell_type": "code",
   "execution_count": null,
   "metadata": {
    "collapsed": false,
    "jupyter": {
     "outputs_hidden": false
    },
    "tags": [
     "nbtutor-solution"
    ]
   },
   "outputs": [],
   "source": [
    "# %load _solutions\\02-introduction-pandas_4.py"
   ]
  },
  {
   "cell_type": "code",
   "execution_count": null,
   "metadata": {
    "collapsed": false,
    "jupyter": {
     "outputs_hidden": false
    },
    "tags": [
     "nbtutor-solution"
    ]
   },
   "outputs": [],
   "source": [
    "# %load _solutions\\02-introduction-pandas_5.py"
   ]
  },
  {
   "cell_type": "markdown",
   "metadata": {},
   "source": [
    "<div class=\"alert alert-success\">\n",
    "\n",
    "**OEFENING 3**:\n",
    "\n",
    "* Filter de GeoDataframe met landen die een populatie groter dan 100000000 hebben\n",
    "\n",
    "<details>\n",
    "  <summary>Hints</summary>\n",
    "\n",
    "* The maximum of a column can be calculated with the `max()` method.\n",
    "* The division operator is `/`, and if we want to take the power of 2 we can use `10**2` (so not `10^2` as you might expect from other languages!).\n",
    "* Operations on a Series are *element-wise*. For example, to add a number to each element of the Series `s`, we can do `s + 2`.\n",
    "    \n",
    "</details>\n",
    "    \n",
    "</div>"
   ]
  },
  {
   "cell_type": "code",
   "execution_count": null,
   "metadata": {
    "tags": []
   },
   "outputs": [],
   "source": [
    "# %load _solutions\\02-introduction-pandas_6.py"
   ]
  },
  {
   "cell_type": "markdown",
   "metadata": {},
   "source": [
    "<div class=\"alert alert-success\">\n",
    "\n",
    "**OEFENING 4**:\n",
    "\n",
    "* Bereken de GDP per capita en voeg die aan de `countries`database toe als een nieuwe kolom ('gdp_capita')\n",
    "\n",
    "<details>\n",
    "  <summary>Hints</summary>\n",
    "\n",
    "* Het delen van twee Series-objecten werkt ook elementgewijs: het eerste element van Series 1 wordt gedeeld door het eerste element van Series 2, het tweede element door het tweede, enzovoort.\n",
    "\n",
    "* gdp per capita = gpd_md_est/pop_est\n",
    "</details>\n",
    "    \n",
    "</div>"
   ]
  },
  {
   "cell_type": "code",
   "execution_count": null,
   "metadata": {
    "tags": []
   },
   "outputs": [],
   "source": [
    "# %load _solutions\\02-introduction-pandas_7.py"
   ]
  },
  {
   "cell_type": "markdown",
   "metadata": {},
   "source": [
    "<div class=\"alert alert-success\">\n",
    "\n",
    "**OEFENING 5**:\n",
    "\n",
    "* Sorteer de `countries` DataFrame volgens de populaties (pop_est). Sorteer zodat de landen met de kleinste populatie bovenaan komen te staan. (Tip: check de help van de functie!)\n",
    "\n",
    "<details>\n",
    "  <summary>Hints</summary>\n",
    "\n",
    "* Het Sorteren kan gedaan worden met de `sort_values` methode.\n",
    "* Om een Dataframe te sorteren volgens een bepaalde kolom, gebruik je `by=`.\n",
    "* Het argument `ascending` bepaalt of de grootste waarden worden gesorteerd bovenaan (`False`) of onderaan in de DataFrame (`True`).\n",
    "</details>\n",
    "    \n",
    "</div>"
   ]
  },
  {
   "cell_type": "code",
   "execution_count": null,
   "metadata": {
    "collapsed": false,
    "jupyter": {
     "outputs_hidden": false
    },
    "tags": [
     "nbtutor-solution"
    ]
   },
   "outputs": [],
   "source": [
    "# %load _solutions\\02-introduction-pandas_8.py"
   ]
  },
  {
   "cell_type": "markdown",
   "metadata": {},
   "source": [
    "<div class=\"alert alert-success\">\n",
    "\n",
    "**EXERCISE 7**:\n",
    "\n",
    "* Selecteer alle landen die behoren tot het continent 'Oceania'.\n",
    "* Voor deze subset: wat is de totale populatie?\n",
    "    \n",
    "</div>"
   ]
  },
  {
   "cell_type": "code",
   "execution_count": null,
   "metadata": {
    "tags": []
   },
   "outputs": [],
   "source": [
    "# %load _solutions\\02-introduction-pandas_9.py"
   ]
  },
  {
   "cell_type": "markdown",
   "metadata": {},
   "source": [
    "<div class=\"alert alert-success\">\n",
    "\n",
    "**EXERCISE 8**:\n",
    "\n",
    "* Select the districts with a population of more than 50.000 inhabitants.\n",
    "\n",
    "</div>"
   ]
  },
  {
   "cell_type": "markdown",
   "metadata": {},
   "source": [
    "## Plotting: visuele data exploratie"
   ]
  },
  {
   "cell_type": "markdown",
   "metadata": {},
   "source": [
    "The **`plot`** method can gebruik worden om de data op verschillende manieren te plotten"
   ]
  },
  {
   "cell_type": "code",
   "execution_count": null,
   "metadata": {
    "collapsed": false,
    "jupyter": {
     "outputs_hidden": false
    }
   },
   "outputs": [],
   "source": [
    "plotdata['AGB_Mg'].plot();"
   ]
  },
  {
   "cell_type": "markdown",
   "metadata": {},
   "source": [
    "De *default* plot is een *line* plot.Je ziet onmiddellijk dat dit niet echt een geschikte plot is voor onze data. Met `.plot.<kind>` (of het `kind` argmunent), kan je verschillende plottypes kiezen. Bijvoorbeeld een histogram:"
   ]
  },
  {
   "cell_type": "code",
   "execution_count": null,
   "metadata": {
    "collapsed": false,
    "jupyter": {
     "outputs_hidden": false
    }
   },
   "outputs": [],
   "source": [
    "plotdata['AGB_Mg'].plot.hist()  # or: .plot(kind='hist')"
   ]
  },
  {
   "cell_type": "markdown",
   "metadata": {},
   "source": [
    "Heel informatief is deze plot niet echt."
   ]
  },
  {
   "cell_type": "markdown",
   "metadata": {},
   "source": [
    "###  `matplotlib` \n",
    "\n",
    "De plot die wordt gegenereerd door pandas met de `.plot()`-methode, wordt eigenlijk gemaakt met behulp van het `matplotlib`-pakket.\n",
    "\n",
    "[Matplotlib](http://matplotlib.org/) is een Python-pakket dat veel wordt gebruikt in de wetenschappelijke Python-gemeenschap om hoogwaardige 2D-publicatiegrafieken te produceren. Het ondersteunt transparant een breed scala aan uitvoerformaten, waaronder PNG (en andere rasterformaten), PostScript/EPS, PDF en SVG, en heeft interfaces voor alle belangrijke desktop-GUI (graphical user interface) toolkits. Het is een geweldig pakket met veel opties.\n",
    "\n",
    "Echter, matplotlib is ook een *gigantische* bibliotheek, waarmee je alles kunt plotten wat je wilt en elke detail van de plot kunt aanpassen... als je weet hoe dit te doen.\n",
    "\n",
    "Deze cursus is uiteraard geen diepgaande python cursus, dus zullen we ons eerder beperken.\n",
    "\n",
    "Dus in deze cursus zullen we voornamelijk matplotlib gebruiken via een handige laag, zoals de pandas `.plot()`-methode, of een hulplib zoals `seaborn`. Maar je leert ook enkele basis-technieken van matplotlib.\n"
   ]
  },
  {
   "cell_type": "markdown",
   "metadata": {},
   "source": [
    "Matplotlib wordt geleverd met een handig subpakket genaamd ``pyplot``, dat voor consistentie met de bredere matplotlib-gemeenschap altijd moet worden geïmporteerd als ``plt``.\n"
   ]
  },
  {
   "cell_type": "code",
   "execution_count": null,
   "metadata": {},
   "outputs": [],
   "source": [
    "import matplotlib.pyplot as plt"
   ]
  },
  {
   "cell_type": "markdown",
   "metadata": {},
   "source": [
    "Het object uit de `plot()` method wordt een **Axes** genoemd"
   ]
  },
  {
   "cell_type": "code",
   "execution_count": null,
   "metadata": {
    "collapsed": false,
    "jupyter": {
     "outputs_hidden": false
    }
   },
   "outputs": [],
   "source": [
    "ax = plotdata['AGB_Mg'].plot.hist()"
   ]
  },
  {
   "cell_type": "code",
   "execution_count": null,
   "metadata": {
    "collapsed": false,
    "jupyter": {
     "outputs_hidden": false
    }
   },
   "outputs": [],
   "source": [
    "type(ax)"
   ]
  },
  {
   "cell_type": "markdown",
   "metadata": {},
   "source": [
    "De Axes vertegenwoordigt de \"dataruimte\" van een typische plot: waar gegevens worden geplot en meestal een x- en y-as hebben. De Axes maakt deel uit van een **Figure** (in het bovenstaande voorbeeld heeft de Figure één Axes of subplot, maar je kunt ook een Figure maken met meerdere Axes of subplots).\n",
    "\n",
    "We kunnen ook deze Figure en Axes handmatig maken:\n"
   ]
  },
  {
   "cell_type": "code",
   "execution_count": null,
   "metadata": {
    "collapsed": false,
    "jupyter": {
     "outputs_hidden": false
    }
   },
   "outputs": [],
   "source": [
    "fig, axs = plt.subplots()  # ncols="
   ]
  },
  {
   "cell_type": "markdown",
   "metadata": {},
   "source": [
    "Daarna kun je deze **ax** vullen met één (of meerdere) plots binnen dezelfde dataruimte"
   ]
  },
  {
   "cell_type": "code",
   "execution_count": null,
   "metadata": {
    "collapsed": false,
    "jupyter": {
     "outputs_hidden": false
    }
   },
   "outputs": [],
   "source": [
    "fig, axs = plt.subplots()\n",
    "plotdata['AGB_Mg'].plot.hist(ax=axs)"
   ]
  },
  {
   "cell_type": "markdown",
   "metadata": {},
   "source": [
    "Verder kun je heel de plot aanpassen, titels geven, kleurtjes geven, ... Helaas hebben wij hier weinig tijd voor, maar ik geef alvast een voorbeeldje mee:"
   ]
  },
  {
   "cell_type": "code",
   "execution_count": null,
   "metadata": {
    "collapsed": false,
    "jupyter": {
     "outputs_hidden": false
    }
   },
   "outputs": [],
   "source": [
    "fig, axs = plt.subplots()\n",
    "plotdata['AGB_Mg'].plot.hist(ax=axs)\n",
    "axs.set_title(\"Mangrove AboveGround Biomass per PSP\")\n",
    "axs.set_xlabel(\"AGB (Mg)\")\n",
    "axs.set_xlim(0, 30)"
   ]
  },
  {
   "cell_type": "markdown",
   "metadata": {},
   "source": [
    "Een voorbeeld van een ander pakket dat is gebouwd bovenop matplotlib is **`seaborn`** (https://seaborn.pydata.org/). Het biedt een hoog niveau interface voor een reeks statistische grafieken.\n",
    "\n",
    "Het geeft je echt prachtige plots, dus zeker de moeite waard hier wat verder in te verdiepen!\n",
    "\n",
    "Bijvoorbeeld, we kunnen een boxplot maken van de bovengrondse biomassa (AGB) binnen de mangrove-sampling units\n"
   ]
  },
  {
   "cell_type": "code",
   "execution_count": null,
   "metadata": {},
   "outputs": [],
   "source": [
    "import seaborn"
   ]
  },
  {
   "cell_type": "code",
   "execution_count": null,
   "metadata": {
    "collapsed": false,
    "jupyter": {
     "outputs_hidden": false
    }
   },
   "outputs": [],
   "source": [
    "fig, ax = plt.subplots(figsize=(8, 8))\n",
    "seaborn.boxplot(y=\"AGB_Mg\", x=\"SU\", color=\"C0\", data=plotdata, ax=ax)  # violinplot"
   ]
  },
  {
   "cell_type": "markdown",
   "metadata": {},
   "source": [
    "In deze cursus zit ook nog een extra notebook verder toegespitst op deze visualisaties. ([visualization-01-matplotlib.ipynb](visualization-01-matplotlib.ipynb#An-small-cheat-sheet-reference-for-some-common-elements))."
   ]
  },
  {
   "cell_type": "markdown",
   "metadata": {},
   "source": [
    "<div class=\"alert alert-info\" style=\"font-size:18px\">\n",
    "\n",
    "**Galleries!**\n",
    "\n",
    "Op het internet staan een hele reeks aan gallijen met voorbeeld-plotjes, waarbij je uitleg krijgt hoe je dergelijk type plots kan maken. Zeker de moeite waard dus!\n",
    "\n",
    "    \n",
    "* [matplotlib gallery](https://matplotlib.org/stable/gallery/) = basis\n",
    "* [seaborn gallery](https://seaborn.pydata.org/examples/index.html) = prachtig\n",
    "* The Python Graph Gallery (https://python-graph-gallery.com/) = nuttig\n",
    "\n",
    "</div>"
   ]
  },
  {
   "cell_type": "markdown",
   "metadata": {},
   "source": [
    "## Groeperen per categorie\n",
    "\n",
    "<img align=\"center\" src=\"../img/pandas/06_groupby1.svg\">"
   ]
  },
  {
   "attachments": {
    "e8de9f8c-9360-48c3-b9e5-1634b21bf266.svg": {
     "image/svg+xml": [
      "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"
     ]
    }
   },
   "cell_type": "markdown",
   "metadata": {},
   "source": [
    "Stel dat we nu wensen de totale bovengronde biomassa van één SU (sampling unit) te berekenen. Dit kunnen we doen door de methode die we hierboven reeds zagen:![06_groupby1.svg](attachment:e8de9f8c-9360-48c3-b9e5-1634b21bf266.svg)"
   ]
  },
  {
   "cell_type": "code",
   "execution_count": null,
   "metadata": {
    "tags": []
   },
   "outputs": [],
   "source": [
    "plotdata"
   ]
  },
  {
   "cell_type": "code",
   "execution_count": null,
   "metadata": {},
   "outputs": [],
   "source": [
    "SU1 = plotdata[plotdata['SU'] == 1]"
   ]
  },
  {
   "cell_type": "code",
   "execution_count": null,
   "metadata": {
    "tags": []
   },
   "outputs": [],
   "source": [
    "SU1"
   ]
  },
  {
   "cell_type": "code",
   "execution_count": null,
   "metadata": {
    "collapsed": false,
    "jupyter": {
     "outputs_hidden": false
    }
   },
   "outputs": [],
   "source": [
    "SU1['AGB_Mg'].sum()"
   ]
  },
  {
   "cell_type": "markdown",
   "metadata": {},
   "source": [
    "Maar als we dit moeten herhalen voor elke SU, dan zijn we wel even bezig. Gelukkig bestaan er intelligentere manieren: de `groupby` methode!"
   ]
  },
  {
   "cell_type": "code",
   "execution_count": null,
   "metadata": {
    "collapsed": false,
    "jupyter": {
     "outputs_hidden": false
    }
   },
   "outputs": [],
   "source": [
    "plotdata.groupby('SU')['AGB_Mg'].sum()"
   ]
  },
  {
   "cell_type": "markdown",
   "metadata": {},
   "source": [
    "Het berekenen van een bepaalde statistiek (bijv. de som van de bevolking) voor elke categorie in een kolom (bijv. de verschillende continenten) is een veelvoorkomend patroon. De `groupby()`-methode wordt gebruikt om dit type bewerkingen te ondersteunen. Meer algemeen past dit in het meer algemene split-apply-combine-patroon:\n",
    "\n",
    "- **Split** de gegevens in groepen\n",
    "- **Apply** een functie op elke groep onafhankelijk\n",
    "- **Combine** de resultaten in een datastructuur\n",
    "\n",
    "De apply- en combine-stappen worden meestal samen uitgevoerd in pandas.\n"
   ]
  },
  {
   "cell_type": "code",
   "execution_count": null,
   "metadata": {
    "collapsed": false,
    "jupyter": {
     "outputs_hidden": false
    }
   },
   "outputs": [],
   "source": [
    "plotdata.groupby('SU')['AGB_Mg'].sum().plot.barh()  # or plot(kind=\"barh\")"
   ]
  },
  {
   "cell_type": "markdown",
   "metadata": {},
   "source": [
    "## Oefenen maar!"
   ]
  },
  {
   "cell_type": "markdown",
   "metadata": {},
   "source": [
    "Voor onze oefeningen gebruiken we opnieuw de countries database"
   ]
  },
  {
   "cell_type": "code",
   "execution_count": null,
   "metadata": {},
   "outputs": [],
   "source": [
    "countries = pd.read_csv(\"data/countries.csv\")"
   ]
  },
  {
   "cell_type": "code",
   "execution_count": null,
   "metadata": {
    "collapsed": false,
    "jupyter": {
     "outputs_hidden": false
    }
   },
   "outputs": [],
   "source": [
    "countries.head()"
   ]
  },
  {
   "cell_type": "markdown",
   "metadata": {},
   "source": [
    "<div class=\"alert alert-success\">\n",
    "<b>OEFENING 9</b>:\n",
    "\n",
    "* Plot de populatiedistributie van alle landen\n",
    "\n",
    "</div>"
   ]
  },
  {
   "cell_type": "code",
   "execution_count": null,
   "metadata": {
    "tags": []
   },
   "outputs": [],
   "source": [
    "countries['pop_est'].plot.hist()"
   ]
  },
  {
   "cell_type": "code",
   "execution_count": null,
   "metadata": {
    "collapsed": false,
    "jupyter": {
     "outputs_hidden": false
    },
    "tags": [
     "nbtutor-solution"
    ]
   },
   "outputs": [],
   "source": [
    "# %load _solutions/01-introduction-tabular-data20.py"
   ]
  },
  {
   "cell_type": "markdown",
   "metadata": {},
   "source": [
    "<div class=\"alert alert-success\">\n",
    "\n",
    "<b>EXERCISE 10</b>:\n",
    "\n",
    "* Maak gebruik van groupby(), om de totale populatie te berekenen per continent\n",
    "\n",
    "</div>"
   ]
  },
  {
   "cell_type": "code",
   "execution_count": null,
   "metadata": {
    "tags": []
   },
   "outputs": [],
   "source": [
    "countries.groupby('continent')['pop_est'].sum()"
   ]
  },
  {
   "cell_type": "code",
   "execution_count": null,
   "metadata": {},
   "outputs": [],
   "source": []
  },
  {
   "cell_type": "markdown",
   "metadata": {},
   "source": [
    "##  --- EXTRA ----\n",
    "\n",
    "Deze notebook is slechts een introductie. De pandas-bibliotheek biedt veel meer functionaliteit voor het werken met tabulaire gegevens, die we in deze cursus niet zullen behandelen.\n"
   ]
  },
  {
   "cell_type": "markdown",
   "metadata": {},
   "source": [
    "### Tellen van waarden"
   ]
  },
  {
   "cell_type": "markdown",
   "metadata": {},
   "source": [
    "Wil je weten wat de unieke waarden zijn van een kolom en hoe vaak elke waarde voorkomt? Gebruik de `value_counts()`-methode:"
   ]
  },
  {
   "cell_type": "code",
   "execution_count": null,
   "metadata": {
    "collapsed": false,
    "jupyter": {
     "outputs_hidden": false
    }
   },
   "outputs": [],
   "source": [
    "countries['continent'].value_counts()"
   ]
  },
  {
   "cell_type": "markdown",
   "metadata": {},
   "source": [
    "### Selecteren vaan een specifieke rij in een dataframe"
   ]
  },
  {
   "cell_type": "markdown",
   "metadata": {},
   "source": [
    "Om een specifieke waarde van een DataFrame te benaderen, kunnen we de `.loc`-methode gebruiken door de (rijlabel, kolomnaam) door te geven:"
   ]
  },
  {
   "cell_type": "code",
   "execution_count": null,
   "metadata": {
    "collapsed": false,
    "jupyter": {
     "outputs_hidden": false
    }
   },
   "outputs": [],
   "source": [
    "countries.loc[0, \"name\"]"
   ]
  },
  {
   "cell_type": "markdown",
   "metadata": {},
   "source": [
    "### Merging dataframes"
   ]
  },
  {
   "cell_type": "markdown",
   "metadata": {},
   "source": [
    "Pandas biedt verschillende manieren om verschillende DataFrames te combineren. Als er een gemeenschappelijke kolom is waarop je beide DataFrames wilt matchen, kunnen we de functie `pd.merge()` gebruiken:\n"
   ]
  },
  {
   "cell_type": "code",
   "execution_count": null,
   "metadata": {},
   "outputs": [],
   "source": [
    "cities = pd.read_csv(\"data/cities.csv\")"
   ]
  },
  {
   "cell_type": "code",
   "execution_count": null,
   "metadata": {
    "collapsed": false,
    "jupyter": {
     "outputs_hidden": false
    }
   },
   "outputs": [],
   "source": [
    "cities.head()"
   ]
  },
  {
   "cell_type": "code",
   "execution_count": null,
   "metadata": {
    "collapsed": false,
    "jupyter": {
     "outputs_hidden": false
    }
   },
   "outputs": [],
   "source": [
    "countries.head()"
   ]
  },
  {
   "cell_type": "markdown",
   "metadata": {},
   "source": [
    "Beide DataFrames hebben de kolom `'iso_a3'` met een 3-karaktercode van het land. Op basis hiervan kunnen we informatie over het land toevoegen aan het steden-dataset:"
   ]
  },
  {
   "cell_type": "code",
   "execution_count": null,
   "metadata": {
    "collapsed": false,
    "jupyter": {
     "outputs_hidden": false
    }
   },
   "outputs": [],
   "source": [
    "pd.merge(cities, countries, on=\"iso_a3\")"
   ]
  },
  {
   "cell_type": "markdown",
   "metadata": {},
   "source": [
    "## Van Pandas naar Geopandas \n",
    "De datasets die in deze notebook worden gebruikt, bevatten ruimtelijke informatie: gegevens over gebieden (landen, districten) of puntlocaties (steden, fietsstations). Maar de gegevens zelf bevatten niet altijd expliciet het ruimtelijke aspect. Bijvoorbeeld, we weten niet precies de omvang van de landen met de hier gebruikte dataset.\n",
    "\n",
    "Bij puntlocaties, zoals het steden DataFrame, wordt de locatie opgenomen als twee kolommen:"
   ]
  },
  {
   "cell_type": "code",
   "execution_count": null,
   "metadata": {
    "collapsed": false,
    "jupyter": {
     "outputs_hidden": false
    }
   },
   "outputs": [],
   "source": [
    "cities.head()"
   ]
  },
  {
   "cell_type": "markdown",
   "metadata": {},
   "source": [
    "Dit stelt ons bijvoorbeeld in staat om de locaties handmatig in kaart te brengen:"
   ]
  },
  {
   "cell_type": "code",
   "execution_count": null,
   "metadata": {
    "collapsed": false,
    "jupyter": {
     "outputs_hidden": false
    }
   },
   "outputs": [],
   "source": [
    "cities.plot.scatter(x=\"longitude\", y=\"latitude\")"
   ]
  },
  {
   "cell_type": "markdown",
   "metadata": {},
   "source": [
    "Dit maakt het echter niet gemakkelijk om met die locaties te werken en ruimtelijke analyses uit te voeren. Daarvoor gaan we een nieuwe package introduceren: **`geopandas`**.\n",
    "\n",
    "Als illustratie converteren we het pandas DataFrame met steden naar een geopandas GeoDataFrame:"
   ]
  },
  {
   "cell_type": "code",
   "execution_count": null,
   "metadata": {},
   "outputs": [],
   "source": [
    "import geopandas"
   ]
  },
  {
   "cell_type": "code",
   "execution_count": null,
   "metadata": {},
   "outputs": [],
   "source": [
    "cities_geo = geopandas.GeoDataFrame(cities, geometry=geopandas.points_from_xy(cities[\"longitude\"], cities[\"latitude\"]))"
   ]
  },
  {
   "cell_type": "code",
   "execution_count": null,
   "metadata": {
    "collapsed": false,
    "jupyter": {
     "outputs_hidden": false
    }
   },
   "outputs": [],
   "source": [
    "cities_geo"
   ]
  },
  {
   "cell_type": "markdown",
   "metadata": {},
   "source": [
    "Een extra kolom geeft ons nu een Punt-geometrie aan. Dit wordt het onderwerp van de volgende notebooks!"
   ]
  }
 ],
 "metadata": {
  "celltoolbar": "Nbtutor - export exercises",
  "jupytext": {
   "formats": "ipynb,md:myst"
  },
  "kernelspec": {
   "display_name": "Python 3 (ipykernel)",
   "language": "python",
   "name": "python3"
  },
  "language_info": {
   "codemirror_mode": {
    "name": "ipython",
    "version": 3
   },
   "file_extension": ".py",
   "mimetype": "text/x-python",
   "name": "python",
   "nbconvert_exporter": "python",
   "pygments_lexer": "ipython3",
   "version": "3.10.11"
  },
  "widgets": {
   "application/vnd.jupyter.widget-state+json": {
    "state": {},
    "version_major": 2,
    "version_minor": 0
   }
  }
 },
 "nbformat": 4,
 "nbformat_minor": 4
}
