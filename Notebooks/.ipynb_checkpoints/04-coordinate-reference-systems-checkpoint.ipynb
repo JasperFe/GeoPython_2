{
 "cells": [
  {
   "cell_type": "markdown",
   "metadata": {},
   "source": [
    "<p><font size=\"6\"><b>Coordinaat referentie systemen</b></font></p>\n",
    "\n",
    "\n",
    "> *GCCA+ phase 2 - Geopyhton training*  \n",
    "> *June, 2023*\n",
    ">\n",
    "> *© 2023, Jasper Feyen  (<mailto:jasperfeyen@hotmail.com>)*\n",
    "---"
   ]
  },
  {
   "cell_type": "code",
   "execution_count": null,
   "metadata": {
    "tags": []
   },
   "outputs": [],
   "source": [
    "%matplotlib inline\n",
    "\n",
    "import pandas as pd\n",
    "import geopandas"
   ]
  },
  {
   "cell_type": "code",
   "execution_count": null,
   "metadata": {
    "tags": []
   },
   "outputs": [],
   "source": [
    "countries = geopandas.read_file(\"data/ne_10m_admin_0_countries.zip\")\n",
    "#cities = geopandas.read_file(\"data/ne_110m_populated_places.zip\")\n",
    "#rivers = geopandas.read_file(\"data/ne_50m_rivers_lake_centerlines.zip\")"
   ]
  },
  {
   "cell_type": "markdown",
   "metadata": {},
   "source": [
    "## Coördinaatreferentiesystemen\n",
    "\n",
    "Tot nu toe hebben we geometrische gegevens gebruikt met bepaalde coördinaten zonder verder na te denken over wat die coördinaten betekenen of hoe ze worden uitgedrukt.\n",
    "\n",
    "> Het **Coördinaatreferentiesysteem (CRS)** relateert de coördinaten aan een specifieke locatie op aarde.\n",
    "\n",
    "Voor een gedetailleerde uitleg, zie [hier](https://docs.qgis.org/2.8/en/docs/gentle_gis_introduction/coordinate_reference_systems.html).\n"
   ]
  },
  {
   "cell_type": "markdown",
   "metadata": {},
   "source": [
    "### Geografische coördinaten\n",
    "\n",
    "> Graden van breedtegraad en lengtegraad.\n",
    ">\n",
    "> Bijvoorbeeld: 48°51′N, 2°17′O\n",
    "\n",
    "De meest bekende vorm van coördinaten zijn geografische coördinaten: we definiëren een positie op de aarde in graden van breedtegraad en lengtegraad, relatief ten opzichte van de evenaar en de nulmeridiaan. Met dit systeem kunnen we gemakkelijk elke locatie op aarde specificeren. Het wordt veel gebruikt, bijvoorbeeld in GPS. Als je de coördinaten van een locatie in Google Maps bekijkt, zie je ook breedtegraad en lengtegraad.\n",
    "\n",
    "**Let op!**\n",
    "\n",
    "In Python gebruiken we (lon, lat) en niet (lat, lon).\n",
    "\n",
    "- Lengtegraad: [-180, 180]\n",
    "- Breedtegraad: [-90, 90]\n",
    "\n"
   ]
  },
  {
   "cell_type": "markdown",
   "metadata": {},
   "source": [
    "### Projected coordinates\n",
    "\n",
    "> `(x, y)`-coördinaten zijn meestal uitgedrukt in meters of voet\n",
    "\n",
    "Hoewel de aarde een bol is, representeren we deze meestal op een plat oppervlak: denk aan een fysieke kaart of de figuren die we met Python op ons computerscherm hebben gemaakt. Het omzetten van de bolvormige aarde naar een platte kaart noemen we een *projectie*.\n",
    "\n",
    "![](../img/projection.png)\n",
    "\n",
    "We projecteren het oppervlak van de aarde op een 2D-vlak, zodat we locaties kunnen uitdrukken in cartesiaanse x- en y-coördinaten op een plat oppervlak. In dit vlak werken we meestal met een lengte-eenheid zoals meters in plaats van graden, wat de analyse handiger en effectiever maakt.\n",
    "\n",
    "Er is echter een belangrijke opmerking: de driedimensionale aarde kan nooit perfect worden gerepresenteerd op een tweedimensionale kaart, dus projecties introduceren onvermijdelijk vervormingen. Om dergelijke fouten te minimaliseren, zijn er verschillende benaderingen voor projecties, elk met specifieke voordelen en nadelen.\n",
    "\n",
    "Sommige projectiesystemen proberen de oppervlakte van geometrieën te behouden, zoals de Albers-gelijkheidsprojectie. Andere projectiesystemen proberen hoeken te behouden, zoals de Mercator-projectie, maar zullen grote vervormingen in het oppervlak laten zien. Elk projectiesysteem zal altijd enige vervorming van oppervlakte, hoek of afstand hebben.\n",
    "\n",
    "<table><tr>\n",
    "<td> <img src=\"../img/projections-AlbersEqualArea.png\"/> </td>\n",
    "<td> <img src=\"../img/projections-Mercator.png\"/> </td>\n",
    "</tr>\n",
    "<tr>\n",
    "<td> <img src=\"../img/projections-Robinson.png\"/> </td>\n",
    "</tr></table>\n"
   ]
  },
  {
   "cell_type": "markdown",
   "metadata": {},
   "source": [
    "**Projected vs werkelijke grootte (Mercator projection)**:\n",
    "\n",
    "![](../img/mercator_projection_area.gif)"
   ]
  },
  {
   "cell_type": "markdown",
   "metadata": {},
   "source": [
    "## Coordinaten Referentie Systemen in Python / GeoPandas"
   ]
  },
  {
   "cell_type": "markdown",
   "metadata": {},
   "source": [
    "Een GeoDataFrame of GeoSeries heeft een `.crs`-attribuut dat (optioneel) een beschrijving bevat van het coördinatenreferentiesysteem van de geometrieën:\n"
   ]
  },
  {
   "cell_type": "code",
   "execution_count": null,
   "metadata": {
    "collapsed": false,
    "jupyter": {
     "outputs_hidden": false
    }
   },
   "outputs": [],
   "source": [
    "countries.crs"
   ]
  },
  {
   "cell_type": "markdown",
   "metadata": {},
   "source": [
    "For the `countries` dataframe, it indicates that it uses the EPSG 4326 / WGS84 lon/lat reference system, which is one of the most used for geographic coordinates.\n",
    "\n",
    "\n",
    "It uses coordinates as latitude and longitude in degrees, as can you be seen from the x/y labels on the plot:"
   ]
  },
  {
   "cell_type": "code",
   "execution_count": null,
   "metadata": {
    "collapsed": false,
    "jupyter": {
     "outputs_hidden": false
    }
   },
   "outputs": [],
   "source": [
    "countries.plot()"
   ]
  },
  {
   "cell_type": "markdown",
   "metadata": {},
   "source": [
    "De `.crs`-eigenschap retourneert een `pyproj.CRS`-object. Om een CRS te specificeren, gebruiken we meestal een stringrepresentatie:\n",
    "\n",
    "- **EPSG-code**\n",
    "  \n",
    "  Voorbeeld: `EPSG:4326` = WGS84 geografisch CRS (lengtegraad, breedtegraad)\n",
    "  \n",
    "- **Well-Know-Text (WKT)**-representatie\n",
    "\n",
    "- In oudere software en datasets kom je mogelijk ook een \"`proj4`-string\" -representatie tegen:\n",
    "  \n",
    "  Voorbeeld: `+proj=longlat +datum=WGS84 +no_defs`\n",
    "\n",
    "  Dit wordt echter niet langer aanbevolen.\n",
    "\n",
    "Zie bijvoorbeeld https://epsg.io/4326\n",
    "\n",
    "Onder de motorkap gebruikt GeoPandas de `pyproj` / `PROJ`-bibliotheken om te werken met herprojecties.\n",
    "\n",
    "Voor meer informatie kun je ook kijken op http://geopandas.readthedocs.io/en/latest/projections.html.\n"
   ]
  },
  {
   "cell_type": "markdown",
   "metadata": {},
   "source": [
    "### Transformeren naar een ander CRS\n",
    "\n",
    "We kunnen een GeoDataFrame naar een ander referentiesysteem (CRS) converteren met behulp van de `to_crs`-functie.\n",
    "\n",
    "Bijvoorbeeld, laten we de landen converteren naar de World Mercator-projectie (http://epsg.io/3395):\n"
   ]
  },
  {
   "cell_type": "code",
   "execution_count": null,
   "metadata": {},
   "outputs": [],
   "source": [
    "# Verwijder Antarctica, want mercator kan niet goed hiermee overweg\n",
    "countries = countries[(countries['name'] != \"Antarctica\")]"
   ]
  },
  {
   "cell_type": "code",
   "execution_count": null,
   "metadata": {},
   "outputs": [],
   "source": [
    "countries_mercator = countries.to_crs(epsg=3395)  # or .to_crs(\"EPSG:3395\")"
   ]
  },
  {
   "cell_type": "code",
   "execution_count": null,
   "metadata": {
    "tags": []
   },
   "outputs": [],
   "source": [
    "countries_mercator.crs"
   ]
  },
  {
   "cell_type": "code",
   "execution_count": null,
   "metadata": {
    "collapsed": false,
    "jupyter": {
     "outputs_hidden": false
    }
   },
   "outputs": [],
   "source": [
    "countries_mercator.plot()"
   ]
  },
  {
   "cell_type": "markdown",
   "metadata": {},
   "source": [
    "### Waarom een een CRS herprojecteren?\n",
    "\n",
    "Er kunnen goede redenen zijn om het coördinatenreferentiesysteem (CRS) van je dataset te veranderen, bijvoorbeeld:\n",
    "\n",
    "- Verschillende bronnen met verschillende CRS -> moeten converteren naar hetzelfde CRS\n",
    "\n",
    "    ```python\n",
    "    df1 = geopandas.read_file(...)\n",
    "    df2 = geopandas.read_file(...)\n",
    "\n",
    "    df2 = df2.to_crs(df1.crs)\n",
    "    ```\n",
    "\n",
    "- Cartografie (vervorming van vormen en afstanden)\n",
    "\n",
    "- Berekeningen op basis van afstand / oppervlakte -> zorg ervoor dat je een geschikt geprojecteerd coördinatensysteem gebruikt dat is uitgedrukt in een zinvolle eenheid zoals meters of voet (niet graden).\n",
    "\n",
    "<div class=\"alert alert-info\" style=\"font-size:120%\">\n",
    "\n",
    "**LET OP:**\n",
    "\n",
    "Alle berekeningen die plaatsvinden in GeoPandas en Shapely gaan ervan uit dat je gegevens zich bevinden in een 2D-cartesisch vlak. Daarom zal het resultaat van die berekeningen alleen correct zijn als je gegevens correct geprojecteerd zijn.\n",
    "\n",
    "</div>\n"
   ]
  },
  {
   "cell_type": "markdown",
   "metadata": {
    "tags": []
   },
   "source": [
    "## Enkele oefeningen!"
   ]
  },
  {
   "cell_type": "markdown",
   "metadata": {},
   "source": [
    "We laden een nieuwe dataset in die de districten in Suriname bevat, ditmaal in geografische coordinaten (WGS64).\n",
    "\n",
    "Om deze data te converteren gebruiken we het coordinatensysteem voor Suriname WGS84/UTM 21N, EPSG: EPSG:32621\n",
    "Om de convertie mogelijk te maken, doen we beroep op de EPSG-code: `EPSG:32621` \n",
    "\n",
    "<div class=\"alert alert-success\">\n",
    "\n",
    "**OEFENING 1: Projecteren van een GeoDataFrame**\n",
    "\n",
    "* Lees de districten in (`\"data/Suriname_districts.geojson\"`) naar GeoDataFrame `districts`.\n",
    "* Bekijk de crs-attribuut van de laag.\n",
    "* Maak een plot van `districts` dataset.\n",
    "* Bereken de oppervlakte voor elke district.\n",
    "* Converteer de laag naar het geprojecteerd CRS (using the `EPSG:32621` voor Suriname). Noem deze nieuwe dataset `districts_UTM21N`.\n",
    "* Maak een gelijkaardige plot van `districts_UTM21N`.\n",
    "* Berekenen nu opnieuw de oppervlakte, maar nu met `districts_UTM21N` (Het resultaat is nu gegeven in m²).\n",
    "    \n",
    "    \n",
    "<details><summary>Hints</summary>\n",
    "\n",
    "* The CRS information is stored in the `.crs` attribute of a GeoDataFrame.\n",
    "* Making a simple plot of a GeoDataFrame can be done with the `.plot()` method.\n",
    "* Converting to a different CRS can be done with the `.to_crs()` method, and the CRS can be specified as an EPSG number using the `epsg` keyword.\n",
    "\n",
    "</details>\n",
    "\n",
    "</div>"
   ]
  },
  {
   "cell_type": "code",
   "execution_count": null,
   "metadata": {
    "tags": []
   },
   "outputs": [],
   "source": [
    "districts = geopandas.read_file(\"data/Suriname_districts.geojson\")"
   ]
  },
  {
   "cell_type": "code",
   "execution_count": null,
   "metadata": {
    "tags": []
   },
   "outputs": [],
   "source": [
    "districts.crs"
   ]
  },
  {
   "cell_type": "code",
   "execution_count": null,
   "metadata": {
    "tags": []
   },
   "outputs": [],
   "source": [
    "districts_wgs84 = districts.area"
   ]
  },
  {
   "cell_type": "code",
   "execution_count": null,
   "metadata": {
    "tags": []
   },
   "outputs": [],
   "source": [
    "districts_UTM21N = districts.to_crs(epsg=32621)"
   ]
  },
  {
   "cell_type": "code",
   "execution_count": null,
   "metadata": {
    "tags": []
   },
   "outputs": [],
   "source": [
    "districts_UTM21N.crs"
   ]
  },
  {
   "cell_type": "code",
   "execution_count": null,
   "metadata": {
    "tags": []
   },
   "outputs": [],
   "source": [
    "districts_UTM21N['area_km2'] = districts_UTM21N.area*10**-6"
   ]
  },
  {
   "cell_type": "code",
   "execution_count": null,
   "metadata": {
    "tags": []
   },
   "outputs": [],
   "source": [
    "districts_UTM21N"
   ]
  },
  {
   "cell_type": "code",
   "execution_count": null,
   "metadata": {
    "tags": []
   },
   "outputs": [],
   "source": [
    "# %load _solutions/04-coordinate-reference-systems-1.py"
   ]
  },
  {
   "cell_type": "code",
   "execution_count": null,
   "metadata": {
    "tags": []
   },
   "outputs": [],
   "source": [
    "# %load _solutions/04-coordinate-reference-systems-2.py"
   ]
  },
  {
   "cell_type": "code",
   "execution_count": null,
   "metadata": {
    "tags": []
   },
   "outputs": [],
   "source": [
    "# %load _solutions/04-coordinate-reference-systems-3.py"
   ]
  },
  {
   "cell_type": "code",
   "execution_count": null,
   "metadata": {
    "tags": []
   },
   "outputs": [],
   "source": [
    "# %load _solutions/04-coordinate-reference-systems-4.py"
   ]
  },
  {
   "cell_type": "code",
   "execution_count": null,
   "metadata": {
    "tags": []
   },
   "outputs": [],
   "source": [
    "# %load _solutions/04-coordinate-reference-systems-5.py"
   ]
  },
  {
   "cell_type": "code",
   "execution_count": null,
   "metadata": {},
   "outputs": [],
   "source": []
  },
  {
   "cell_type": "markdown",
   "metadata": {
    "tags": []
   },
   "source": [
    "# EXTRA INFO: contextily"
   ]
  },
  {
   "cell_type": "markdown",
   "metadata": {
    "tags": []
   },
   "source": [
    "<div class=\"alert alert-success\">\n",
    "\n",
    "**Oefening 2**:\n",
    "\n",
    "In het vorige notebook hebben we een oefening gedaan waarbij we de locaties van de fietsstations in Parijs hebben geplot en een achtergrondkaart hebben toegevoegd met behulp van de `contextily`  package.\n",
    "\n",
    "Op dit moment gaat `contextily` ervan uit dat je gegevens in het Web Mercator-projectieformaat zijn, het systeem dat de meeste webtegeldiensten gebruiken. En in die eerste oefening hebben we de gegevens in de juiste CRS (`EPSG:3857`) geleverd, zodat je je geen zorgen hoefde te maken over dit aspect.\n",
    "\n",
    "Normaal gesproken zullen je gegevens echter niet in Web Mercator worden aangeleverd en zul je ze zelf moeten afstemmen middels reprojectie.\n",
    "    \n",
    "</details>\n",
    "\n",
    "</div>"
   ]
  }
 ],
 "metadata": {
  "celltoolbar": "Nbtutor - export exercises",
  "kernelspec": {
   "display_name": "Python 3 (ipykernel)",
   "language": "python",
   "name": "python3"
  },
  "language_info": {
   "codemirror_mode": {
    "name": "ipython",
    "version": 3
   },
   "file_extension": ".py",
   "mimetype": "text/x-python",
   "name": "python",
   "nbconvert_exporter": "python",
   "pygments_lexer": "ipython3",
   "version": "3.10.11"
  },
  "widgets": {
   "application/vnd.jupyter.widget-state+json": {
    "state": {},
    "version_major": 2,
    "version_minor": 0
   }
  }
 },
 "nbformat": 4,
 "nbformat_minor": 4
}
