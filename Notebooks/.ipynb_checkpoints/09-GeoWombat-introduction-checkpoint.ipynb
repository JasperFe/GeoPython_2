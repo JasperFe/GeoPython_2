{
 "cells": [
  {
   "cell_type": "markdown",
   "metadata": {},
   "source": [
    "<p><font size=\"6\"><b> GEOWOMBAT </b></font></p>\n",
    "\n",
    "> *GCCA+ phase 2 - Geopyhton training*  \n",
    "> *June, 2023*\n",
    ">\n",
    "> *© 2023, Jasper Feyen  (<mailto:jasperfeyen@hotmail.com>)*\n",
    "\n",
    "---\n",
    "---"
   ]
  },
  {
   "cell_type": "markdown",
   "metadata": {
    "tags": []
   },
   "source": [
    "Deze notebooks bieden slechts het topje van de ijsberg wat betreft dataverwerking.\n",
    "\n",
    "Met beperkte rekenkracht is het gelukt om relatief eenvoudige rasters/vectoren te verwerken. In dit geval was het steeds mogelijk om volledige rasters in ons werkgeheugen te laden en te verwerken.\n",
    "\n",
    "Maar wat als je aan de slag wilt gaan met heel grote datasets, die het werkgeheugen van de computer ferm overschrijden? Met beperkte computerkracht zou dit snel leiden tot het crashen van python.. niet zo handig.\n",
    "\n",
    "Gelukkig bestaan ook hier oplossingen voor: meet GeoWombat\n",
    "\n",
    "GeoWombat site: [https://geowombat.readthedocs.io/en/latest/](https://geowombat.readthedocs.io/en/latest/)"
   ]
  },
  {
   "cell_type": "markdown",
   "metadata": {
    "tags": []
   },
   "source": [
    "GeoWombat werkt met dezelfde bibliotheken als Geopandas en rioxarray, maar heeft hierrond nog een extra pakket gebouwd: dask.\n",
    "\n",
    "Met Dask wordt het mogelijk om zware datasets in partities op te delen, vooraleer ze verwerkt worden. Het is dus geschikt voor het schaalbaar maken van zware rekentaken."
   ]
  },
  {
   "cell_type": "markdown",
   "metadata": {
    "tags": []
   },
   "source": [
    "Als bijkomend voordeel heeft GeoWombat dat het de brug slaat met classificatie en machine learning pakketten, waardoor ook het trainen, en classificeren van beelden mogelijk wordt."
   ]
  },
  {
   "cell_type": "markdown",
   "metadata": {},
   "source": [
    "# Tutorial GeoWombats"
   ]
  },
  {
   "cell_type": "markdown",
   "metadata": {},
   "source": [
    "link: [https://geowombat.readthedocs.io/en/latest/extraction.html](https://geowombat.readthedocs.io/en/latest/extraction.html)"
   ]
  },
  {
   "cell_type": "code",
   "execution_count": null,
   "metadata": {},
   "outputs": [],
   "source": []
  }
 ],
 "metadata": {
  "jupytext": {
   "cell_metadata_filter": "-run_control,-deletable,-editable,-jupyter,-slideshow"
  },
  "kernelspec": {
   "display_name": "Python 3 (ipykernel)",
   "language": "python",
   "name": "python3"
  },
  "language_info": {
   "codemirror_mode": {
    "name": "ipython",
    "version": 3
   },
   "file_extension": ".py",
   "mimetype": "text/x-python",
   "name": "python",
   "nbconvert_exporter": "python",
   "pygments_lexer": "ipython3",
   "version": "3.10.11"
  },
  "widgets": {
   "application/vnd.jupyter.widget-state+json": {
    "state": {},
    "version_major": 2,
    "version_minor": 0
   }
  }
 },
 "nbformat": 4,
 "nbformat_minor": 4
}
