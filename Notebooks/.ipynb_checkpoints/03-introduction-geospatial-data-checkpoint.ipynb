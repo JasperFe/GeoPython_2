{
 "cells": [
  {
   "cell_type": "markdown",
   "metadata": {},
   "source": [
    "<p><font size=\"6\"><b> Introductie tot geospatiale vector data in Python</b></font></p>\n",
    "\n",
    "\n",
    "> *GCCA+ phase 2 - Geopyhton training*  \n",
    "> *June, 2023*\n",
    ">\n",
    "> *© 2023, Jasper Feyen  (<mailto:jasperfeyen@hotmail.com>)*\n",
    "\n",
    "---\n",
    "---"
   ]
  },
  {
   "cell_type": "code",
   "execution_count": null,
   "metadata": {
    "tags": []
   },
   "outputs": [],
   "source": [
    "%matplotlib inline\n",
    "\n",
    "import pandas as pd\n",
    "import geopandas"
   ]
  },
  {
   "cell_type": "markdown",
   "metadata": {},
   "source": [
    "## Importeren van GeoDataFrames"
   ]
  },
  {
   "cell_type": "markdown",
   "metadata": {},
   "source": [
    "Geospatiale gegevens zijn vaak beschikbaar in specifieke GIS-bestandsindelingen of gegevensopslagplaatsen, zoals ESRI shapefiles, GeoJSON-bestanden, geopackage-bestanden, PostGIS (PostgreSQL) databases, ...\n",
    "\n",
    "We kunnen de GeoPandas-bibliotheek gebruiken om veel van die GIS-bestandsindelingen te lezen (met behulp van de `fiona`-bibliotheek onder de motorkap, die een interface is naar GDAL/OGR), met behulp van de functie `geopandas.read_file`.\n",
    "\n",
    "Laten we bijvoorbeeld beginnen met het lezen van een shapefile met alle landen ter wereld (aangepast van [deze bron](http://www.naturalearthdata.com/downloads/110m-cultural-vectors/110m-admin-0-countries/), het zipbestand is beschikbaar in de `/data`-map), en de gegevens inspecteren:\n"
   ]
  },
  {
   "cell_type": "code",
   "execution_count": null,
   "metadata": {},
   "outputs": [],
   "source": [
    "countries = geopandas.read_file(\"data/ne_10m_admin_0_countries.zip\")\n",
    "# Of indien je een uitgepakte schapefile beschikt:\n",
    "# countries = geopandas.read_file(\"data/ne_10m_admin_0_countries/ne_110m_admin_0_countries.shp\")"
   ]
  },
  {
   "cell_type": "code",
   "execution_count": null,
   "metadata": {
    "collapsed": false,
    "jupyter": {
     "outputs_hidden": false
    }
   },
   "outputs": [],
   "source": [
    "countries.head()"
   ]
  },
  {
   "cell_type": "code",
   "execution_count": null,
   "metadata": {
    "collapsed": false,
    "jupyter": {
     "outputs_hidden": false
    }
   },
   "outputs": [],
   "source": [
    "countries.plot()"
   ]
  },
  {
   "cell_type": "code",
   "execution_count": null,
   "metadata": {},
   "outputs": [],
   "source": [
    "countries.explore()"
   ]
  },
  {
   "cell_type": "markdown",
   "metadata": {},
   "source": [
    "Wat observeren we:\n",
    "\n",
    "- Met behulp van `.head()` kunnen we de eerste rijen van de dataset bekijken, net zoals we met Pandas kunnen doen.\n",
    "- Er is een `geometry`-kolom en de verschillende landen worden weergegeven als polygonen.\n",
    "- We kunnen de methode `.plot()` (matplotlib) of `explore()` (Folium / Leaflet.js) gebruiken om snel een *basis* visualisatie van de gegevens te krijgen."
   ]
  },
  {
   "cell_type": "markdown",
   "metadata": {},
   "source": [
    "## Wat is een GeoDataFrame?\n",
    "\n",
    "We hebben de GeoPandas-bibliotheek gebruikt om de geospatiale gegevens in te lezen, en dit heeft ons een `GeoDataFrame` als output gegeven."
   ]
  },
  {
   "cell_type": "code",
   "execution_count": null,
   "metadata": {
    "collapsed": false,
    "jupyter": {
     "outputs_hidden": false
    }
   },
   "outputs": [],
   "source": [
    "type(countries)"
   ]
  },
  {
   "cell_type": "markdown",
   "metadata": {},
   "source": [
    "Een GeoDataFrame bevat een tabulaire, geospatiala dataset:\n",
    "\n",
    "* Het heeft een **'geometry' kolom** die de geometrie-informatie bevat (of kenmerken in GeoJSON).\n",
    "* De andere kolommen zijn de **attributen** (of eigenschappen in GeoJSON) die elke geometrie beschrijven.\n",
    "\n",
    "Een dergelijke `GeoDataFrame` is vergelijkbaar met een pandas `DataFrame`, maar heeft enkele extra functionaliteiten voor het werken met geospatiale data:\n",
    "\n",
    "* Een `.geometry` attribuut dat altijd de kolom met de geometrie-informatie bevat (als een GeoSeries). De naam van de kolom hoeft niet per se 'geometry' te zijn, maar deze zal altijd toegankelijk zijn onder de `.geometry` attribuut.\n",
    "* Het heeft enkele extra methoden voor het werken met ruimtelijke gegevens (oppervlakte, afstand, buffer, intersectie, ...), waar we in deze notebooks even onder ons vergrootglas zullen houden."
   ]
  },
  {
   "cell_type": "code",
   "execution_count": null,
   "metadata": {
    "collapsed": false,
    "jupyter": {
     "outputs_hidden": false
    }
   },
   "outputs": [],
   "source": [
    "# GeoDataframes bevatten dus steeds een geometry-attribuut:\n",
    "countries.geometry"
   ]
  },
  {
   "cell_type": "code",
   "execution_count": null,
   "metadata": {
    "collapsed": false,
    "jupyter": {
     "outputs_hidden": false
    }
   },
   "outputs": [],
   "source": [
    "type(countries.geometry)"
   ]
  },
  {
   "cell_type": "code",
   "execution_count": null,
   "metadata": {
    "collapsed": false,
    "jupyter": {
     "outputs_hidden": false
    }
   },
   "outputs": [],
   "source": [
    "countries.geometry.area"
   ]
  },
  {
   "cell_type": "markdown",
   "metadata": {},
   "source": [
    "**Het is nog steeds een DataFrame**, dus we hebben alle functionaliteit van Pandas beschikbaar om te gebruiken op de geospatiële dataset en om gegevensmanipulaties uit te voeren met de attributen en geometrie-informatie samen.\n",
    "\n",
    "Bijvoorbeeld, we kunnen het gemiddelde bevolkingsaantal van alle landen berekenen (door toegang te krijgen tot de 'pop_est' kolom en de `mean` methode erop aan te roepen):"
   ]
  },
  {
   "cell_type": "code",
   "execution_count": null,
   "metadata": {
    "collapsed": false,
    "jupyter": {
     "outputs_hidden": false
    }
   },
   "outputs": [],
   "source": [
    "countries['pop_est'].mean()"
   ]
  },
  {
   "cell_type": "markdown",
   "metadata": {},
   "source": [
    "Ook Boolean filtering werkt nog steeds:"
   ]
  },
  {
   "cell_type": "code",
   "execution_count": null,
   "metadata": {
    "tags": []
   },
   "outputs": [],
   "source": [
    "countries[countries['name']== 'Suriname'].plot()"
   ]
  },
  {
   "cell_type": "code",
   "execution_count": null,
   "metadata": {},
   "outputs": [],
   "source": [
    "South_America = countries[countries['continent'] == 'South America']"
   ]
  },
  {
   "cell_type": "code",
   "execution_count": null,
   "metadata": {
    "tags": []
   },
   "outputs": [],
   "source": [
    "South_America.plot()"
   ]
  },
  {
   "cell_type": "markdown",
   "metadata": {},
   "source": [
    "<div class=\"alert alert-info\" style=\"font-size:120%\">\n",
    "\n",
    "**ONTHOUD:** <br>\n",
    "\n",
    "* A `GeoDataFrame` allows to perform typical tabular data analysis together with spatial operations\n",
    "* A `GeoDataFrame` (or *Feature Collection*) consists of:\n",
    "    * **Geometries** or **features**: the spatial objects\n",
    "    * **Attributes** or **properties**: columns with information about each spatial object\n",
    "\n",
    "</div>"
   ]
  },
  {
   "cell_type": "markdown",
   "metadata": {},
   "source": [
    "<div class=\"alert alert-success\">\n",
    "\n",
    "**OEFENING 1**:\n",
    "\n",
    "Maak een visualisatie van de landsgrenzen van Suriname.\n",
    "\n",
    "Opmerking: De 'countries' dataset heeft een lage graad van detail en is afkomstig van https://www.naturalearthdata.com/downloads/. Vectorfiles met hogere kwaliteit kunnen hier ook worden gedownload.\n",
    "    \n",
    "</div>"
   ]
  },
  {
   "cell_type": "code",
   "execution_count": null,
   "metadata": {
    "tags": []
   },
   "outputs": [],
   "source": [
    "# %load _solutions/03-introduction-geospatial-data_1.py\n",
    "suriname = countries[countries['name'] == 'Suriname'];\n",
    "# Plotten van de grenzen\n",
    "suriname.plot()\n"
   ]
  },
  {
   "cell_type": "markdown",
   "metadata": {},
   "source": [
    "## Geometries: Points, Linestrings and Polygons\n",
    "\n",
    "**Spatiale vectoren** kunnen bestaan uit verschillende typen, en de 3 fundamentele typen zijn:\n",
    "\n",
    "![](../img/simple_features_3_text.svg)\n",
    "\n",
    "* **Puntdata**: vertegenwoordigt een enkel punt in de ruimte.\n",
    "* **Lijndata** (\"LineString\"): vertegenwoordigt een reeks punten die een lijn vormen.\n",
    "* **Polygoondata**: vertegenwoordigt een gevuld gebied.\n",
    "\n",
    "En elk van deze typen kan ook worden gecombineerd in meerdelige geometrieën (zie https://shapely.readthedocs.io/en/stable/manual.html#geometric-objects voor een uitgebreid overzicht).\n"
   ]
  },
  {
   "cell_type": "markdown",
   "metadata": {},
   "source": [
    "Tot nu toe hebben we steeds de geometrie geplot van een enkele polygoon:"
   ]
  },
  {
   "cell_type": "code",
   "execution_count": null,
   "metadata": {
    "tags": []
   },
   "outputs": [],
   "source": [
    "countries[countries['name'] == 'Luxembourg'].plot()"
   ]
  },
  {
   "cell_type": "code",
   "execution_count": null,
   "metadata": {
    "collapsed": false,
    "jupyter": {
     "outputs_hidden": false
    }
   },
   "outputs": [],
   "source": [
    "print(countries.geometry[2])"
   ]
  },
  {
   "cell_type": "markdown",
   "metadata": {},
   "source": [
    "Laten we enkele andere datasets importeren met verschillende soorten geometrie-objecten.\n",
    "\n",
    "Een dataset over steden in de wereld (aangepast van http://www.naturalearthdata.com/downloads/110m-cultural-vectors/110m-populated-places/, het zip-bestand is beschikbaar in de `/data`-map), bestaande uit puntgegevens:"
   ]
  },
  {
   "cell_type": "code",
   "execution_count": null,
   "metadata": {},
   "outputs": [],
   "source": [
    "cities = geopandas.read_file(\"data/ne_110m_populated_places.zip\")"
   ]
  },
  {
   "cell_type": "code",
   "execution_count": null,
   "metadata": {
    "collapsed": false,
    "jupyter": {
     "outputs_hidden": false
    }
   },
   "outputs": [],
   "source": [
    "print(cities.geometry[0])"
   ]
  },
  {
   "cell_type": "code",
   "execution_count": null,
   "metadata": {
    "tags": []
   },
   "outputs": [],
   "source": [
    "cities.plot()"
   ]
  },
  {
   "cell_type": "markdown",
   "metadata": {},
   "source": [
    "En een dataset van rivieren in de wereld (van http://www.naturalearthdata.com/downloads/50m-physical-vectors/50m-rivers-lake-centerlines/, het zip-bestand is beschikbaar in de `/data`-map) waarbij elke rivier een (multi-)lijn is:"
   ]
  },
  {
   "cell_type": "code",
   "execution_count": null,
   "metadata": {},
   "outputs": [],
   "source": [
    "rivers = geopandas.read_file(\"data/ne_50m_rivers_lake_centerlines.zip\")"
   ]
  },
  {
   "cell_type": "code",
   "execution_count": null,
   "metadata": {
    "tags": []
   },
   "outputs": [],
   "source": [
    "rivers.plot()"
   ]
  },
  {
   "cell_type": "code",
   "execution_count": null,
   "metadata": {
    "tags": []
   },
   "outputs": [],
   "source": [
    "rivers[rivers['name'] == 'Amazonas'].plot()"
   ]
  },
  {
   "cell_type": "code",
   "execution_count": null,
   "metadata": {},
   "outputs": [],
   "source": [
    "# Plot alle landen uit Asië"
   ]
  },
  {
   "cell_type": "code",
   "execution_count": null,
   "metadata": {
    "tags": []
   },
   "outputs": [],
   "source": [
    "mask_1 = countries['continent'] == 'Asia'\n",
    "mask_2 = countries['continent'] == 'South America'\n",
    "# Twee conditionals: OF = |\n",
    "countries[ (mask_1) | (mask_2) ].plot()"
   ]
  },
  {
   "cell_type": "code",
   "execution_count": null,
   "metadata": {
    "tags": []
   },
   "outputs": [],
   "source": [
    "print(rivers.geometry[0])"
   ]
  },
  {
   "cell_type": "markdown",
   "metadata": {},
   "source": [
    "### Over de `shapely` bibliotheek\n",
    "\n",
    "De individuele geometrie-objecten worden geleverd door de [`shapely`](https://shapely.readthedocs.io/en/stable/) bibliotheek."
   ]
  },
  {
   "cell_type": "code",
   "execution_count": null,
   "metadata": {
    "collapsed": false,
    "jupyter": {
     "outputs_hidden": false
    }
   },
   "outputs": [],
   "source": [
    "type(countries.geometry[0])"
   ]
  },
  {
   "cell_type": "markdown",
   "metadata": {},
   "source": [
    "Om er zelf een te construeren:"
   ]
  },
  {
   "cell_type": "code",
   "execution_count": null,
   "metadata": {},
   "outputs": [],
   "source": [
    "from shapely.geometry import Point, Polygon, LineString"
   ]
  },
  {
   "cell_type": "code",
   "execution_count": null,
   "metadata": {},
   "outputs": [],
   "source": [
    "p = Point(0, 0)"
   ]
  },
  {
   "cell_type": "code",
   "execution_count": null,
   "metadata": {
    "collapsed": false,
    "jupyter": {
     "outputs_hidden": false
    }
   },
   "outputs": [],
   "source": [
    "print(p)"
   ]
  },
  {
   "cell_type": "code",
   "execution_count": null,
   "metadata": {},
   "outputs": [],
   "source": [
    "polygon = Polygon([(1, 1), (2,2), (2, 1)])"
   ]
  },
  {
   "cell_type": "code",
   "execution_count": null,
   "metadata": {
    "collapsed": false,
    "jupyter": {
     "outputs_hidden": false
    }
   },
   "outputs": [],
   "source": [
    "polygon.area"
   ]
  },
  {
   "cell_type": "code",
   "execution_count": null,
   "metadata": {
    "collapsed": false,
    "jupyter": {
     "outputs_hidden": false
    }
   },
   "outputs": [],
   "source": [
    "polygon.distance(p)"
   ]
  },
  {
   "cell_type": "markdown",
   "metadata": {},
   "source": [
    "<div class=\"alert alert-info\" style=\"font-size:120%\">\n",
    "\n",
    "**REMEMBER**: <br>\n",
    "\n",
    "**Enkele geometrieën worden vertegenwoordigd door `shapely`-objecten:**\n",
    "\n",
    "* Als je toegang krijgt tot een enkele geometrie van een GeoDataFrame, krijg je een shapely-geometrieobject.\n",
    "* Deze objecten hebben vergelijkbare functionaliteit als geopandas-objecten (GeoDataFrame/GeoSeries). Bijvoorbeeld:\n",
    "  * `single_shapely_object.distance(other_point)` -> afstand tussen twee punten\n",
    "  * `geodataframe.distance(other_point)` -> afstand voor elk punt in de gegevensreeks naar het andere punt.\n",
    "\n",
    "\n",
    "</div>"
   ]
  },
  {
   "cell_type": "markdown",
   "metadata": {},
   "source": [
    "## Plotten van meerdere lagen"
   ]
  },
  {
   "cell_type": "markdown",
   "metadata": {},
   "source": [
    "Je kunt meerdere datalagen gemakkelijk samen plotten. Voorwaarde is natuurlijk dat ze over hetzelfde Coordinatensysteem beschikken, maar daar gaan we in volgend notebook iets dieper op in."
   ]
  },
  {
   "cell_type": "code",
   "execution_count": null,
   "metadata": {
    "collapsed": false,
    "jupyter": {
     "outputs_hidden": false
    }
   },
   "outputs": [],
   "source": [
    "# fig, ax = plt.subplots(figsize=(10, 8))\n",
    "ax = countries.plot( facecolor='none', figsize=(10, 8))\n",
    "rivers.plot(ax=ax)\n",
    "cities.plot(ax=ax, color='red')\n",
    "ax.set(xlim=(-90, -30), ylim=(-60, 20))"
   ]
  },
  {
   "cell_type": "markdown",
   "metadata": {},
   "source": [
    "EXTRA: Bekijk het notebook [visualization-02-geopandas.ipynb](visualization-02-geopandas.ipynb) voor meer details over het visualiseren van geospatiale datasets."
   ]
  },
  {
   "cell_type": "markdown",
   "metadata": {},
   "source": [
    "## OEFENINGEN: MANGROVE DATA\n",
    "\n",
    "Zoals in vorige notebooks, oefenen we wat verder op onze mangrove-data. \n",
    "Hier starten we simpel, met volgende datasets\n",
    "\n",
    "- De administratieve disctricten van Suriname (gedownload via Gonini)\n",
    "- De locaties van de Sampling Units (SU's) en Principal Sampling Plots (PSP) gebruikt binnen het GCCA+ project\n",
    "\n",
    "Beide datasets bevatten een geospatiale component en zijn daarom dus GIS-lagen.\n",
    "\n",
    "In vorig hoofdstuk zagen we enkel tabeldata, maar nu koppelen we hier dus ook de spatiale context aan!"
   ]
  },
  {
   "cell_type": "markdown",
   "metadata": {},
   "source": [
    "<div class=\"alert alert-success\">\n",
    "\n",
    "**OEFENING 2**:\n",
    "\n",
    "We starten met het inladen van de mangrove-inventarisdata (beschikbaar als Shapefile: `data/mangrove_2022.gpkg`)\n",
    "    \n",
    "* Lees de mangrove dataset als een GeoDataFrame met de naam `plotdata`.\n",
    "* Bekijk het type van het eerste object\n",
    "* Uit hoeveel rijen bestaat de dataset? Welke type geospatiale data betreft het?\n",
    "* Hoeveel *features* zijn er aanwezig in de dataset?\n",
    "    \n",
    "<details><summary>Tips</summary>\n",
    "\n",
    "* Gebruik `type(..)` om het type van elk Python object te achterhalen\n",
    "* Gebruik de `geopandas.read_file()` functie voor het inlezen van geospatiale (vector) data.\n",
    "* Gebruik de `.shape` attribuut om het aantal *features* te achterhalen\n",
    "\n",
    "</details>\n",
    "    \n",
    "    \n",
    "</div>"
   ]
  },
  {
   "cell_type": "code",
   "execution_count": null,
   "metadata": {
    "tags": []
   },
   "outputs": [],
   "source": [
    "plotdata = geopandas.read_file('data/mangrove_2022.gpkg')"
   ]
  },
  {
   "cell_type": "code",
   "execution_count": null,
   "metadata": {
    "tags": []
   },
   "outputs": [],
   "source": [
    "plotdata.plot()"
   ]
  },
  {
   "cell_type": "code",
   "execution_count": null,
   "metadata": {
    "tags": []
   },
   "outputs": [],
   "source": [
    "plotdata.shape"
   ]
  },
  {
   "cell_type": "code",
   "execution_count": null,
   "metadata": {
    "tags": []
   },
   "outputs": [],
   "source": [
    "# %load _solutions/03-introduction-geospatial-data_2.py"
   ]
  },
  {
   "cell_type": "code",
   "execution_count": null,
   "metadata": {},
   "outputs": [],
   "source": [
    "# %load _solutions/03-introduction-geospatial-data_3.py"
   ]
  },
  {
   "cell_type": "code",
   "execution_count": null,
   "metadata": {
    "tags": []
   },
   "outputs": [],
   "source": [
    "# %load _solutions/03-introduction-geospatial-data_4.py\n"
   ]
  },
  {
   "cell_type": "markdown",
   "metadata": {},
   "source": [
    "<div class=\"alert alert-success\">\n",
    "\n",
    "**OEFENING 2**:\n",
    "\n",
    "* Maak een snelle plot van de `plotdata` dataset.\n",
    "* Maak de plot een beetje groter door de grootte naar (12, 6) te brengen (hint: de `plot` methode accepteert een `figsize` argument).\n",
    " \n",
    "</div>"
   ]
  },
  {
   "cell_type": "code",
   "execution_count": null,
   "metadata": {
    "tags": []
   },
   "outputs": [],
   "source": [
    "type(plotdata)"
   ]
  },
  {
   "cell_type": "code",
   "execution_count": null,
   "metadata": {
    "tags": []
   },
   "outputs": [],
   "source": [
    "plotdata.plot(figsize= (12,6), markersize =10, color = 'red')"
   ]
  },
  {
   "cell_type": "code",
   "execution_count": null,
   "metadata": {
    "tags": []
   },
   "outputs": [],
   "source": [
    "# %load _solutions/03-introduction-geospatial-data_5.py"
   ]
  },
  {
   "cell_type": "markdown",
   "metadata": {},
   "source": [
    "## Toevoegen van contextly"
   ]
  },
  {
   "cell_type": "markdown",
   "metadata": {},
   "source": [
    "Een plot met alleen punten kan moeilijk te interpreteren zijn zonder enige ruimtelijke context. We hebben gezien dat we de explore()-methode kunnen gebruiken om eenvoudig een interactieve figuur te krijgen die standaard een achtergrondkaart bevat. Maar ook voor de statische plot gebaseerd op matplotlib kan het handig zijn om zo'n basis kaart toe te voegen, en dat is wat we in de volgende oefening zullen leren.\n",
    "\n",
    "We gaan gebruik maken van het [contextily](https://github.com/darribas/contextily) pakket. De `add_basemap()` functie van dit pakket maakt het eenvoudig om een achtergrond webkaart aan onze plot toe te voegen. We beginnen met het plotten van onze data, en geven vervolgens het matplotlib as-object (bekomen door de `plot()` methode van het dataframe) door aan de `add_basemap()` functie. contextily zal dan de webtegels downloaden die nodig zijn voor het geografische bereik van je plot.\n",
    "\n",
    "\n",
    "<div class=\"alert alert-success\">\n",
    "\n",
    "**OEFENING 3**:\n",
    "\n",
    "* Importeer `contextily`.\n",
    "* Maak opnieuw een figuur aan van alle plotpunten in `plotdata`, maar wijs dit nu toe aan een `ax` variable (bv `ax = plotdata.plot(...)`).\n",
    "* Wijzig de grootte van de *markers* naar grootte 5 (gebruik de `markersize` keyword of binnen de `plot()` methode hiervoor).\n",
    "* Gebruik de `add_basemap()` functie vab `contextily` en een achtergrond toe te voegen, als argument van de functie geef je de aangemaakte variabele `ax` op.\n",
    "\n",
    "</div>"
   ]
  },
  {
   "cell_type": "code",
   "execution_count": null,
   "metadata": {
    "tags": [
     "nbtutor-solution"
    ]
   },
   "outputs": [],
   "source": [
    "# %load _solutions/03-introduction-geospatial-data_6.py\n",
    "import contextily\n",
    "\n",
    "# Plot opstellen met de gewenste eigenschappen\n",
    "ax = plotdata.to_crs('epsg:3857').plot(figsize=(12,6), markersize=5)\n",
    "\n",
    "# Extra: wijzig de y-as: groter maken adhv ax.set(ylim = ...)\n",
    "ax.set(ylim = (635000, 680000))\n",
    "\n",
    "# uit het contextily pakket halen we de add_basemap() functie\n",
    "contextily.add_basemap(ax)\n"
   ]
  },
  {
   "cell_type": "markdown",
   "metadata": {},
   "source": [
    "<div class=\"alert alert-success\">\n",
    "\n",
    "**Oefening 4**:\n",
    "\n",
    "* Maak een histogram die de distributie van het aantal Avicennia (zwarte mangrove) bomen over de plots weergeeft.\n",
    "\n",
    "<details>\n",
    "  <summary>Hints</summary>\n",
    "\n",
    "* Een kolom selecteren kan via vierkante haakjes: `df['col_name']`\n",
    "* Enkelvoudige kolomen kunnen adhv `hist()` methode een eenvoudige histogram plotten\n",
    "    \n",
    "</details>\n",
    "    \n",
    "</div>"
   ]
  },
  {
   "cell_type": "code",
   "execution_count": null,
   "metadata": {
    "tags": []
   },
   "outputs": [],
   "source": [
    "# %load _solutions/03-introduction-geospatial-data_7.py"
   ]
  },
  {
   "cell_type": "markdown",
   "metadata": {},
   "source": [
    "<div class=\"alert alert-success\">\n",
    "\n",
    "**OEFENING 5**:\n",
    "\n",
    "We kunnen het aantal Avicennia-bomen ook visueel maken in onze plot:\n",
    "    \n",
    "* Maak een plot van de `plotdata` dataset\n",
    "* Gebruik de kolom `Avicennia_count` om een kleur toe te voegen aan de punten. Hiervoor gebruik je de `column=` parameter binnen de `.plot()` methode.\n",
    "* Extra: voeg `legend=True` argument toe aan de .plot() om een kleurenschaal te krijgen.\n",
    " \n",
    "</div>"
   ]
  },
  {
   "cell_type": "code",
   "execution_count": null,
   "metadata": {
    "tags": []
   },
   "outputs": [],
   "source": [
    "plotdata.crs"
   ]
  },
  {
   "cell_type": "code",
   "execution_count": null,
   "metadata": {
    "tags": []
   },
   "outputs": [],
   "source": [
    "# %load _solutions/03-introduction-geospatial-data_8.py"
   ]
  },
  {
   "cell_type": "markdown",
   "metadata": {},
   "source": [
    "<div class=\"alert alert-success\">\n",
    "\n",
    "**OEFENING 8**:\n",
    "\n",
    "* Voeg een kolom `'tree_density'` toe, die het aantal bomen per ha weergeeft (in een plot).\n",
    "    * Bereken hiervoor zelf eerst het totale aantal bomen in de plot (= som van de 3 type bomen)\n",
    "    * Densiteit kan vervolgens berekend worden door aantal_bomen/(20* 100 * 10**-4)\n",
    "* Plot the plots opnieuw volgens  de ``tree_density'` . \n",
    "* Gebruik `legend=True` om een kleurenlegende toe te voegen.\n",
    "\n",
    "</div>"
   ]
  },
  {
   "cell_type": "code",
   "execution_count": null,
   "metadata": {
    "tags": []
   },
   "outputs": [],
   "source": [
    "# %load _solutions/03-introduction-geospatial-data_9.py"
   ]
  },
  {
   "cell_type": "code",
   "execution_count": null,
   "metadata": {},
   "outputs": [],
   "source": [
    "# %load _solutions/03-introduction-geospatial-data_10.py"
   ]
  },
  {
   "cell_type": "code",
   "execution_count": null,
   "metadata": {
    "collapsed": false,
    "jupyter": {
     "outputs_hidden": false
    },
    "tags": [
     "nbtutor-solution"
    ]
   },
   "outputs": [],
   "source": [
    "# %load _solutions/02-introduction-geospatial-data9.py"
   ]
  },
  {
   "cell_type": "markdown",
   "metadata": {},
   "source": [
    "<div class=\"alert alert-success\">\n",
    "\n",
    "**OEFENING 6**:\n",
    "\n",
    "Vervolgens zullen we de Beschermde natuurgebieden van Suriname wat bekijken.\n",
    "\n",
    "* Lees de dataset `potected_areas.shp`.\n",
    "* Bekijk de eerste rijen van de set. Welke soort geometry bevat deze laag?\n",
    "* Hoeveel *features* zijn er aanwezig? (hint: use the `.shape` attribute)\n",
    "* Maak een snelle plot van de `protected_areas` dataset (set the figure size to (12, 6)).\n",
    "    \n",
    "</div>"
   ]
  },
  {
   "cell_type": "code",
   "execution_count": null,
   "metadata": {
    "tags": []
   },
   "outputs": [],
   "source": [
    "# %load _solutions/03-introduction-geospatial-data_11.py"
   ]
  },
  {
   "cell_type": "code",
   "execution_count": null,
   "metadata": {
    "tags": []
   },
   "outputs": [],
   "source": [
    "# %load _solutions/03-introduction-geospatial-data_12.py"
   ]
  },
  {
   "cell_type": "code",
   "execution_count": null,
   "metadata": {
    "tags": []
   },
   "outputs": [],
   "source": [
    "# %load _solutions/03-introduction-geospatial-data_13.py"
   ]
  },
  {
   "cell_type": "markdown",
   "metadata": {},
   "source": [
    "<div class=\"alert alert-success\">\n",
    "\n",
    "**OEFENING 7**:\n",
    "    \n",
    "Wat is het grootste beschermd gebied (grootste oppervlakte)?\n",
    "\n",
    "* Bereken de oppervlakte van elk district in km² naar een nieuwe kolom area_km2\n",
    "* Voeg de oppervlakte toe aan de `protected_areas` dataframe.\n",
    "* Sorteer je dataframe by op Area van hoog naar laag (descending).\n",
    "\n",
    "<details><summary>Hints</summary>\n",
    "\n",
    "* Het toevoegen van een nieuwe kolom aan een dataframe kan door het gebruiken van vierkante haakjes `df['new_col'] = values`\n",
    "* via .area wordt de oppervlakte berekend in m². Door een vermenigvuldigen met `10**-6**` kun je dit omrekenen naar km².\n",
    "* Om je DataFrame te sorteren kun je de `sort_values()` methode gebruiken. Je specifieert de kolom waarop er gesorteerd moet worden door de parameter `by='col_name'` toe te voegen aan de functie. Bekijk de help van deze functie om te achterhalen hoe je kan sorteren volgens *ascending* of *descending*.\n",
    "\n",
    "</details>\n",
    "\n",
    "</div>"
   ]
  },
  {
   "cell_type": "code",
   "execution_count": null,
   "metadata": {
    "tags": []
   },
   "outputs": [],
   "source": [
    "# %load _solutions/03-introduction-geospatial-data_14.py"
   ]
  },
  {
   "cell_type": "code",
   "execution_count": null,
   "metadata": {
    "tags": []
   },
   "outputs": [],
   "source": [
    "# %load _solutions/03-introduction-geospatial-data_14.py"
   ]
  },
  {
   "cell_type": "markdown",
   "metadata": {},
   "source": [
    "---\n",
    "\n",
    "## EXTRA: een Geodataframe halen uit een Pandas dataframe"
   ]
  },
  {
   "cell_type": "markdown",
   "metadata": {},
   "source": [
    "Dit is handig als je bijvoorbeeld een tabel hebt met coordinaten in twee kolommen"
   ]
  },
  {
   "cell_type": "code",
   "execution_count": null,
   "metadata": {},
   "outputs": [],
   "source": [
    "# Colgende functie maakt een nieuwe pandas dataframe aan ter illustratie\n",
    "df = pd.DataFrame(\n",
    "    {'City': ['Buenos Aires', 'Brasilia', 'Santiago', 'Bogota', 'Caracas'],\n",
    "     'Country': ['Argentina', 'Brazil', 'Chile', 'Colombia', 'Venezuela'],\n",
    "     'Latitude': [-34.58, -15.78, -33.45, 4.60, 10.48],\n",
    "     'Longitude': [-58.66, -47.91, -70.66, -74.08, -66.86]})"
   ]
  },
  {
   "cell_type": "code",
   "execution_count": null,
   "metadata": {
    "tags": []
   },
   "outputs": [],
   "source": [
    "df"
   ]
  },
  {
   "cell_type": "markdown",
   "metadata": {},
   "source": [
    "We wensen dit om te zetten naar een Geopandas dataframe, op basis van de longitude en latitude"
   ]
  },
  {
   "cell_type": "code",
   "execution_count": null,
   "metadata": {},
   "outputs": [],
   "source": [
    "gdf = geopandas.GeoDataFrame(\n",
    "    df, geometry=geopandas.points_from_xy(df.Longitude, df.Latitude), crs = 'EPSG:4236')"
   ]
  },
  {
   "cell_type": "code",
   "execution_count": null,
   "metadata": {},
   "outputs": [],
   "source": [
    "gdf"
   ]
  },
  {
   "cell_type": "markdown",
   "metadata": {},
   "source": [
    "Zie: https://geopandas.org/en/latest/gallery/create_geopandas_from_pandas.html voor een vollediger overzichtje"
   ]
  }
 ],
 "metadata": {
  "celltoolbar": "Nbtutor - export exercises",
  "kernelspec": {
   "display_name": "Python 3 (ipykernel)",
   "language": "python",
   "name": "python3"
  },
  "language_info": {
   "codemirror_mode": {
    "name": "ipython",
    "version": 3
   },
   "file_extension": ".py",
   "mimetype": "text/x-python",
   "name": "python",
   "nbconvert_exporter": "python",
   "pygments_lexer": "ipython3",
   "version": "3.10.11"
  },
  "widgets": {
   "application/vnd.jupyter.widget-state+json": {
    "state": {},
    "version_major": 2,
    "version_minor": 0
   }
  }
 },
 "nbformat": 4,
 "nbformat_minor": 4
}
