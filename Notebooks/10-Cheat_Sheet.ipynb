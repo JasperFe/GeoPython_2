{
 "cells": [
  {
   "cell_type": "markdown",
   "id": "15611ecd-da66-4a1c-93c9-557f994deb73",
   "metadata": {},
   "source": [
    "# CHEAT SHEET"
   ]
  },
  {
   "cell_type": "markdown",
   "id": "bc4a8f9d-ff29-4338-86a1-d9033d156572",
   "metadata": {},
   "source": [
    "# Pandas dataset inlezen"
   ]
  },
  {
   "cell_type": "code",
   "execution_count": null,
   "id": "a7c1ed4d-33b2-478f-9e5a-18f4b8ce1daf",
   "metadata": {
    "tags": []
   },
   "outputs": [],
   "source": [
    "import pandas as pd"
   ]
  },
  {
   "cell_type": "code",
   "execution_count": null,
   "id": "3e2628ff-8a36-4884-a7be-f12c2bd4a91f",
   "metadata": {
    "tags": []
   },
   "outputs": [],
   "source": [
    "countries = pd.read_csv('data\\countries.csv')"
   ]
  },
  {
   "cell_type": "code",
   "execution_count": null,
   "id": "4d41d017-70a3-42f6-b120-9ec1cb4b5302",
   "metadata": {
    "tags": []
   },
   "outputs": [],
   "source": [
    "mask = countries['pop_est']> 100_000_000"
   ]
  },
  {
   "cell_type": "code",
   "execution_count": null,
   "id": "7aa68439-f782-4a86-a2d4-f5f5145b9cd8",
   "metadata": {
    "tags": []
   },
   "outputs": [],
   "source": [
    "countries[mask]"
   ]
  },
  {
   "cell_type": "code",
   "execution_count": null,
   "id": "3ef67e75-ebf1-4c87-8055-2ba55a0de0c2",
   "metadata": {},
   "outputs": [],
   "source": []
  },
  {
   "cell_type": "code",
   "execution_count": null,
   "id": "67f6332d-b566-4b02-9ba4-3bd9fe8652ab",
   "metadata": {},
   "outputs": [],
   "source": []
  },
  {
   "cell_type": "code",
   "execution_count": null,
   "id": "aea1740c-5ebe-48e0-a3bc-6ecded6b70ba",
   "metadata": {},
   "outputs": [],
   "source": []
  },
  {
   "cell_type": "code",
   "execution_count": null,
   "id": "6e49a4a1-5ea2-4442-b5bd-fc5fb719f345",
   "metadata": {},
   "outputs": [],
   "source": []
  },
  {
   "cell_type": "code",
   "execution_count": null,
   "id": "3ec748bd-c7ce-41da-8785-f333993f7ba9",
   "metadata": {
    "tags": []
   },
   "outputs": [],
   "source": [
    "# Stap 1 - pandas importeren:\n",
    "import pandas as pd"
   ]
  },
  {
   "cell_type": "code",
   "execution_count": null,
   "id": "76c78754-6584-485d-a817-6d3f1344a7bb",
   "metadata": {
    "tags": []
   },
   "outputs": [],
   "source": [
    "# Stap 2 - csv-file inladen via pd.read_csv()\n",
    "countries = pd.read_csv('data\\countries.csv')"
   ]
  },
  {
   "cell_type": "code",
   "execution_count": null,
   "id": "3640ce9d-234e-4f13-af92-0fa9a603dac6",
   "metadata": {
    "tags": []
   },
   "outputs": [],
   "source": [
    "# Informatie over functie opvragen:\n",
    "pd.read_csv??"
   ]
  },
  {
   "cell_type": "code",
   "execution_count": null,
   "id": "cd18b410-67ea-4726-bdee-617b8f0130fc",
   "metadata": {
    "tags": []
   },
   "outputs": [],
   "source": [
    "# Kolom selecteren via [] en kolom label ('label') => Geoseries\n",
    "pop_est = countries['pop_est']\n",
    "print(pop_est)"
   ]
  },
  {
   "cell_type": "code",
   "execution_count": null,
   "id": "c8e4eb0c-c831-4065-8d4c-bf01e6593f28",
   "metadata": {
    "tags": []
   },
   "outputs": [],
   "source": [
    "# Twee kolommen met [[]] => nieuwe dataframe\n",
    "countries[['pop_est','name']]"
   ]
  }
 ],
 "metadata": {
  "kernelspec": {
   "display_name": "Python 3 (ipykernel)",
   "language": "python",
   "name": "python3"
  },
  "language_info": {
   "codemirror_mode": {
    "name": "ipython",
    "version": 3
   },
   "file_extension": ".py",
   "mimetype": "text/x-python",
   "name": "python",
   "nbconvert_exporter": "python",
   "pygments_lexer": "ipython3",
   "version": "3.10.11"
  }
 },
 "nbformat": 4,
 "nbformat_minor": 5
}
