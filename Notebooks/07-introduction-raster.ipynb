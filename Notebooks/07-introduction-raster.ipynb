{
 "cells": [
  {
   "cell_type": "markdown",
   "metadata": {},
   "source": [
    "<p><font size=\"6\"><b> Intro tot geospatiale rasterdata in python </b></font></p>\n",
    "\n",
    "\n",
    "\n",
    "> *GCCA+ phase 2 - Geopyhton training*  \n",
    "> *June, 2023*\n",
    ">\n",
    "> *© 2023, Jasper Feyen  (<mailto:jasperfeyen@hotmail.com>)*\n",
    "\n",
    "---\n",
    "---"
   ]
  },
  {
   "cell_type": "code",
   "execution_count": null,
   "metadata": {
    "deletable": true,
    "editable": true
   },
   "outputs": [],
   "source": [
    "%matplotlib inline\n",
    "\n",
    "import numpy as np"
   ]
  },
  {
   "cell_type": "markdown",
   "metadata": {
    "deletable": true,
    "editable": true
   },
   "source": [
    "De twee belangrijkste soorten georuimtelijke gegevens zijn raster- en vectordata. Vectordatastructuren stellen specifieke kenmerken op het aardoppervlak voor en kennen attributen toe aan die kenmerken.\n",
    "\n",
    "__Rasterdata__ wordt opgeslagen als een raster van waarden die op een kaart worden weergegeven als pixels. Rasterbestanden verschillen van foto's doordat ze ruimtelijk worden gerefereerd. Elke pixel vertegenwoordigt een landgebied op de grond. Dat gebied wordt gedefinieerd door de ruimtelijke resolutie van het raster."
   ]
  },
  {
   "cell_type": "markdown",
   "metadata": {
    "deletable": true,
    "editable": true
   },
   "source": [
    "![](../img/raster-concept.png)\n",
    "\n",
    "<small>_Source: Colin Williams, NEON._</small>"
   ]
  },
  {
   "cell_type": "markdown",
   "metadata": {},
   "source": [
    "Rasterdata bevat minimaal 3 dimensies:\n",
    "\n",
    "- lengtegraad van de pixel\n",
    "- breedtegraad van de pixel\n",
    "- pixelwaarde(s) van de pixel\n",
    "\n",
    "De gegevenswaarde kan een enkel datapunt zijn voor elke pixel, ook wel een enkelvoudige band (of laag) rasterdataset genoemd. Een bekende enkelband rasterdataset is een Digital Elevation Model (DEM): elke pixelwaarde in een DEM vertegenwoordigt de oppervlaktehoogte van het gebied dat door de pixel wordt weergegeven.\n",
    "\n",
    "Elke pixel kan ook meerdere gegevenswaarden bevatten, dat wil zeggen meerdere banden (of lagen). Remote sensing-metingen zijn typisch rasterdatasets die bestaan uit meerdere banden. Bijvoorbeeld, bands 2, 3 en 4 van de [Landsat 8](https://landsat.gsfc.nasa.gov/landsat-8/landsat-8-bands) metingen leggen respectievelijk zichtbaar blauw, groen en rood vast (elk met een resolutie van 30 m).\n",
    "\n",
    "Hoewel we rasterdata eigenlijk kunnen opslaan als een tabellarische dataset met behulp van een x-, y- en waardekolom, is de representatie als een N-dimensionale array/grid handiger voor rasterdata-verwerking.\n",
    "\n",
    "Voor rastergebaseerde gegevens, vergelijkbaar met de GeoPandas-bibliotheek voor op functies gebaseerde gegevens, is er [xarray](http://xarray.pydata.org/en/stable/).\n"
   ]
  },
  {
   "cell_type": "markdown",
   "metadata": {
    "deletable": true,
    "editable": true,
    "tags": []
   },
   "source": [
    "## Importeren van raster data"
   ]
  },
  {
   "cell_type": "markdown",
   "metadata": {
    "deletable": true,
    "editable": true
   },
   "source": [
    "Net zoals geospatiële op functies gebaseerde (vector) gegevens, is rasterdata beschikbaar in specifieke GIS-bestandsindelingen of gegevensopslagplaatsen, zoals Geotiff-bestanden, Esri-grid, NetCDF-bestanden, PostGIS (PostgreSQL) database, ...\n",
    "\n",
    "We kunnen de xarray-bibliotheek gebruiken om veel van die GIS-bestandsindelingen te lezen (waarbij gebruik wordt gemaakt van de [Rasterio-bibliotheek](https://rasterio.readthedocs.io/en/latest/) onder de motorkap, die een interface biedt voor rastergegevens). Een belangrijk gegevensformaat is GeoTiff.\n",
    "\n",
    "Laten we beginnen met het lezen van de Sentinel RGB-banden voor Paramaribo:\n"
   ]
  },
  {
   "cell_type": "code",
   "execution_count": null,
   "metadata": {},
   "outputs": [],
   "source": [
    "import xarray as xr"
   ]
  },
  {
   "cell_type": "code",
   "execution_count": null,
   "metadata": {
    "deletable": true,
    "editable": true
   },
   "outputs": [],
   "source": [
    "file_paramaribo = \"./data/Sentinel_2022_example2.tif\""
   ]
  },
  {
   "cell_type": "code",
   "execution_count": null,
   "metadata": {},
   "outputs": [],
   "source": [
    "paramaribo = xr.open_dataarray(file_paramaribo, engine=\"rasterio\")\n",
    "paramaribo"
   ]
  },
  {
   "cell_type": "markdown",
   "metadata": {},
   "source": [
    "Xarray brengt zijn eigen plotmethoden met zich mee, maar vertrouwt op Matplotlib voor daadwerkelijke plotting:"
   ]
  },
  {
   "cell_type": "code",
   "execution_count": null,
   "metadata": {},
   "outputs": [],
   "source": [
    "ax = paramaribo.sel(band=[3,2,1]).plot.imshow(figsize=(8, 5))\n",
    "ax.axes.set_aspect('equal')  # adjust the ratio of y-unit to x-unit, using 'equal' uses the same scaling for x and y, "
   ]
  },
  {
   "cell_type": "markdown",
   "metadata": {},
   "source": [
    "Hmm, de bovenstaande Visualisatie is vrij donker; de zandbank van Braamspunt is zeer levendig vanwege de zeer hoge reflectie in de drie banden (rood, groen, blauw). Die pixels zijn 'uitbijters', wat we kunnen controleren door een histogram te maken."
   ]
  },
  {
   "cell_type": "code",
   "execution_count": null,
   "metadata": {
    "tags": []
   },
   "outputs": [],
   "source": [
    "paramaribo.sel(band = [3,2,1]).plot.hist()"
   ]
  },
  {
   "cell_type": "markdown",
   "metadata": {},
   "source": [
    "De meeste pixelwaarden bevinden zich tussen 0 en 0.2. We kunnen echter een parameter toevoegen aan de plotfunctie die rekening houdt met de *outliers* en ze negeert!"
   ]
  },
  {
   "cell_type": "code",
   "execution_count": null,
   "metadata": {
    "tags": []
   },
   "outputs": [],
   "source": [
    "ax = paramaribo.sel(band=[3,2,1]).plot.imshow(figsize=(8, 5), robust = True)\n",
    "ax.axes.set_aspect('equal')  # adjust the ratio of y-unit to x-unit, using 'equal' uses the same scaling for x and y, "
   ]
  },
  {
   "cell_type": "markdown",
   "metadata": {},
   "source": [
    "Een raster is een **afbeelding** in lokale pixelcoördinaten totdat we specificeren welk deel van de aarde de afbeelding beslaat. Dit wordt gedaan door middel van de rasterbestandsmetadata. Hoe deze metadata op de schijf worden opgeslagen, hangt af van het bestandstype. Bij het lezen van een bestand moeten de metadata ook geïnterpreteerd worden om de *ruimtelijke informatie* te kennen. De vertaling van de gegevens en metadata naar een Python Nd-array met geografische context wordt gedaan door de rasterio/xarray-pakketten.\n",
    "\n",
    "Als snelle introductie (we zullen later de specifieke syntax bekijken).\n",
    "\n",
    "> Plot van alleen de rode band, gebruikmakend van een rode kleurschaal, met `robust=True` om rekening te houden met de *outliers*\n"
   ]
  },
  {
   "cell_type": "code",
   "execution_count": null,
   "metadata": {},
   "outputs": [],
   "source": [
    "ax = paramaribo.sel(band=1).plot.imshow(cmap=\"Reds\", figsize=(12, 5), robust = True )\n",
    "ax.axes.set_aspect('equal')"
   ]
  },
  {
   "cell_type": "markdown",
   "metadata": {
    "deletable": true,
    "editable": true
   },
   "source": [
    "## Wat is een xarray.DataArray?"
   ]
  },
  {
   "cell_type": "markdown",
   "metadata": {},
   "source": [
    "Laten we de dataset nog eens bekijken:"
   ]
  },
  {
   "cell_type": "code",
   "execution_count": null,
   "metadata": {},
   "outputs": [],
   "source": [
    "paramaribo"
   ]
  },
  {
   "cell_type": "markdown",
   "metadata": {},
   "source": [
    "De output van xarray is een beetje anders dan wat we eerder hebben gezien. Laten we de verschillende elementen doornemen:\n",
    "\n",
    "- Het is een `xarray.DataArray`, een van de belangrijkste datatypes die xarray biedt.\n",
    "- Het heeft 3 __dimensies__:\n",
    "    - `band`: 10 bands (de 10 Sentinel-banden van onze afbeelding)\n",
    "    - `y`: de y-coördinaten van de dataset\n",
    "    - `x`: de x-coördinaten van de dataset\n",
    "- Elke dimensie wordt gedefinieerd door een __coördinaat__ (1D) array.\n",
    "- Het bevat 304407 (227\\*447\\*3) datawaarden (opgeslagen als float32).\n",
    "- Andere metadata, zoals de ruimtelijke informatie, verstrekt door het `tiff`-bestand, worden opgeslagen in de __`Attributes`__.\n",
    "\n",
    "Als we naar de gegevens zelf kijken (klik op de pictogrammen aan de rechterkant),\n"
   ]
  },
  {
   "cell_type": "markdown",
   "metadata": {},
   "source": [
    "## Xarray adds (spatial) context to NumPy arrays"
   ]
  },
  {
   "cell_type": "code",
   "execution_count": null,
   "metadata": {},
   "outputs": [],
   "source": [
    "type(paramaribo.values), type(paramaribo.x.values), type(paramaribo.y.values), type(paramaribo.band.values)"
   ]
  },
  {
   "cell_type": "markdown",
   "metadata": {},
   "source": [
    "... allemaal Numpy-arrays!\n",
    "\n",
    "Numpy is een van de meest fundamentele onderdelen van het wetenschappelijke Python \"ecosysteem\". Veel andere pakketten - zoals Pandas en GeoPandas die je al hebt gebruikt in deze cursus, en nu ook xarray - zijn gebouwd bovenop NumPy en het ndarray (n-dimensionale array) object dat het biedt.\n"
   ]
  },
  {
   "cell_type": "markdown",
   "metadata": {},
   "source": [
    "Wanneer je rastergegevens leest met behulp van `xarray.open_dataarray`, maak je eigenlijk een set Numpy-arrays die zijn gecombineerd in een `xarray.DataArray` object. Een Numpy-array is een efficiënt gegevenstype om te werken met arrays in het algemeen. Laten we de gegevens van Herstappe extraheren als een Numpy `ndarray`:"
   ]
  },
  {
   "cell_type": "code",
   "execution_count": null,
   "metadata": {},
   "outputs": [],
   "source": [
    "paramaribo_array = paramaribo.values"
   ]
  },
  {
   "cell_type": "code",
   "execution_count": null,
   "metadata": {},
   "outputs": [],
   "source": [
    "paramaribo_array"
   ]
  },
  {
   "cell_type": "code",
   "execution_count": null,
   "metadata": {},
   "outputs": [],
   "source": [
    "type(paramaribo_array), paramaribo_array.dtype"
   ]
  },
  {
   "cell_type": "code",
   "execution_count": null,
   "metadata": {},
   "outputs": [],
   "source": [
    "type(paramaribo.x.values), type(paramaribo.y.values)"
   ]
  },
  {
   "cell_type": "markdown",
   "metadata": {},
   "source": [
    "NumPy ondersteunt verschillende datatypes (float, int, ...), maar __alle elementen van een array hebben hetzelfde datatypes. Merk op dat NumPy het gegevenstype automatisch detecteert op basis van de invoer. Het gegevenstype van deze specifieke array `paramaribo_array` is float32. Meer informatie over de gegevenstypen die NumPy ondersteunt, is beschikbaar in de [documentatie](https://numpy.org/devdocs/user/basics.types.html#array-types-and-conversions-between-types).\n"
   ]
  },
  {
   "cell_type": "markdown",
   "metadata": {},
   "source": [
    "Net als elk ander object in Python heeft de `ndarray` een aantal attributen. We hebben al het `dtype`-attribuut gecontroleerd. De `shape` en `ndim` van de array zijn andere relevante attributen:"
   ]
  },
  {
   "cell_type": "code",
   "execution_count": null,
   "metadata": {},
   "outputs": [],
   "source": [
    "paramaribo.shape, paramaribo.ndim"
   ]
  },
  {
   "cell_type": "markdown",
   "metadata": {},
   "source": [
    "Daarom hebben we drie banden met afmetingen (227, 447) en het gegevenstype float32. Maar met deze enkele Numpy-array hebben we geen enkele ruimtelijke informatie over welk gebied van de aarde deze gegevens vertegenwoordigen. We hebben ook de `herstappe.x` en `herstappe.y` arrays nodig om de individuele elementen in de array te koppelen aan de overeenkomstige aardcoördinaten en band.\n",
    "\n",
    "Door de `xarray.DataArray` te gebruiken om deze NumPy-arrays te verpakken en te combineren, kunnen we de gegevens en de ruimtelijke context samen behouden."
   ]
  },
  {
   "cell_type": "markdown",
   "metadata": {},
   "source": [
    "<div class=\"alert alert-info\" style=\"font-size:120%\">\n",
    "\n",
    "**Samengevat**:\n",
    "\n",
    "Het [`numpy`-pakket](https://numpy.org/) is de ruggengraat van het wetenschappelijke Python-ecosysteem. Het `ndarray`-object biedt een efficiënt gegevenstype om rastergegevens op te slaan en te manipuleren, maar het bevat __GEEN enkele ruimtelijke informatie__.\n",
    "    \n",
    "Als we `xarray.DataArray` gebruiken om dit NumPy-array in te pakken, kunnen we zowel de gegevens als de ruimtelijke context behouden.\n",
    "\n",
    "</div>\n"
   ]
  },
  {
   "cell_type": "markdown",
   "metadata": {
    "deletable": true,
    "editable": true,
    "tags": []
   },
   "source": [
    "## Raster data attributes - spatiale context"
   ]
  },
  {
   "cell_type": "markdown",
   "metadata": {
    "deletable": true,
    "editable": true
   },
   "source": [
    "Om snel de ruimtelijke metadata van een Raster-databestand te bekijken, kunnen we de [`gdalinfo`-opdracht](https://gdal.org/programs/gdalinfo.html#gdalinfo) gebruiken.\n",
    "\n",
    "> De `gdalinfo`-opdracht geeft informatie over een rasterdataset.\n",
    "\n",
    "Het is geen Python-opdracht, maar een programma dat vanuit de terminal (ook wel de opdrachtregel genoemd) moet worden uitgevoerd. Met behulp van een kleine Jupyter-notebook en de `!`-truc kunnen we het ook binnen het notebook gebruiken.\n"
   ]
  },
  {
   "cell_type": "code",
   "execution_count": null,
   "metadata": {
    "collapsed": false,
    "deletable": true,
    "editable": true,
    "jupyter": {
     "outputs_hidden": false
    }
   },
   "outputs": [],
   "source": [
    "!gdalinfo -mm  \"./data/Sentinel_2022_example2.tif\""
   ]
  },
  {
   "cell_type": "markdown",
   "metadata": {
    "deletable": true,
    "editable": true
   },
   "source": [
    "Belangrijke informatie die we krijgen van de `gdalinfo`-opdracht zijn:\n",
    "\n",
    "* Coördinatenreferentiesysteem (CRS), zie ook [het notebook over coördinatenreferentiesystemen](./02-coordinate-reference-systems.ipynb).\n",
    "* Aantal banden in de dataset: Een dataset kan één (enkele) of meerdere (multi) lagen (banden) bevatten.\n",
    "* Ruimtelijke resolutie: Deze resolutie geeft aan welk gebied op de grond elke pixel beslaat. De eenheden voor je data worden bepaald door het bovenstaande CRS (bijv. meters).\n",
    "* Ruimtelijk bereik (begrenzend kader) van de data: Het geografische gebied dat door de rasterdata wordt bestreken.\n",
    "\n",
    "![spatial-extent](../img/raster-spatial-extent-coordinates.png)\n",
    "\n",
    "<small>_Afbeeldingsbron: National Ecological Observatory Network (NEON)._</small>\n"
   ]
  },
  {
   "cell_type": "markdown",
   "metadata": {
    "deletable": true,
    "editable": true
   },
   "source": [
    "Laten we kijken hoe `xarray.open_dataarray` deze informatie opneemt:"
   ]
  },
  {
   "cell_type": "code",
   "execution_count": null,
   "metadata": {
    "deletable": true,
    "editable": true
   },
   "outputs": [],
   "source": [
    "paramaribo = xr.open_dataarray(file_paramaribo, engine=\"rasterio\")\n",
    "paramaribo"
   ]
  },
  {
   "cell_type": "markdown",
   "metadata": {},
   "source": [
    "- Het coördinatenreferentiesysteem (CRS) wordt opgeslagen als attribuut van de `xr.DataArray` `rio` accessor."
   ]
  },
  {
   "cell_type": "code",
   "execution_count": null,
   "metadata": {
    "collapsed": false,
    "deletable": true,
    "editable": true,
    "jupyter": {
     "outputs_hidden": false
    }
   },
   "outputs": [],
   "source": [
    "paramaribo.rio.crs"
   ]
  },
  {
   "cell_type": "code",
   "execution_count": null,
   "metadata": {},
   "outputs": [],
   "source": [
    "type(paramaribo.rio.crs)"
   ]
  },
  {
   "cell_type": "markdown",
   "metadata": {},
   "source": [
    "- Het aantal bands in de dataset wordt weergegeven in de `band` dimensie van de oorspronkelijke dataset."
   ]
  },
  {
   "cell_type": "code",
   "execution_count": null,
   "metadata": {},
   "outputs": [],
   "source": [
    "paramaribo.band"
   ]
  },
  {
   "cell_type": "markdown",
   "metadata": {},
   "source": [
    "- De spatiale resolutie geeft aan welk gebied op de grond elk pixel bestrijkt. Dit is beschikbaar via de `rio` accessor, maar wordt ook vertaald naar de dimensies x en y als de afstand tussen twee elementen."
   ]
  },
  {
   "cell_type": "code",
   "execution_count": null,
   "metadata": {},
   "outputs": [],
   "source": [
    "paramaribo.rio.resolution()"
   ]
  },
  {
   "cell_type": "code",
   "execution_count": null,
   "metadata": {},
   "outputs": [],
   "source": [
    "paramaribo.x[1] - paramaribo.x[0], paramaribo.y[1] - paramaribo.y[0]"
   ]
  },
  {
   "cell_type": "markdown",
   "metadata": {},
   "source": [
    "- De spatiale extent (bounding box) van de gegevens. [Xarray vertaalt](https://corteva.github.io/rioxarray/stable/getting_started/getting_started.html) de coördinateninformatie en ruimtelijke omvang:\n",
    "    \n",
    "    > De x- en y-coördinaten worden automatisch gegenereerd op basis van de geodata van het bestand, verschoven naar het midden van elke pixel.\n",
    "    \n",
    "    Daarom zijn de minimale en maximale waarden van de coördinaten nog steeds hetzelfde als de grenzen die zijn gedefinieerd in de metadata."
   ]
  },
  {
   "cell_type": "code",
   "execution_count": null,
   "metadata": {},
   "outputs": [],
   "source": [
    "paramaribo.rio.bounds()"
   ]
  },
  {
   "cell_type": "code",
   "execution_count": null,
   "metadata": {},
   "outputs": [],
   "source": [
    "paramaribo.x.min(), paramaribo.x.max(), paramaribo.y.min(), paramaribo.y.max()"
   ]
  },
  {
   "cell_type": "markdown",
   "metadata": {},
   "source": [
    "<div class=\"alert alert-info\" style=\"font-size:120%\">\n",
    "\n",
    "**TIP**: <br>\n",
    "\n",
    "De [`gdal` bibliotheek](https://gdal.org/) is een zeer krachtige set functies. Het is het open source Zwitserse zakmes voor het hanteren van raster- en vectorgeoruimtelijke gegevens. GDAL biedt Python-bindingen om het vanuit Python-code uit te voeren, maar deze zijn niet erg 'Pythonic'. Wanneer je bekend bent met de opdrachtregel, zijn de [opdrachtregel rasterfuncties](https://gdal.org/programs/index.html#raster-programs) (CLI) zeker de moeite waard om te bekijken!\n",
    "    \n",
    "Je kunt een CLI-commando uitvoeren in een Jupyter Notebook door het vooraf te laten gaan met het teken `!`.\n",
    "\n",
    "</div>\n"
   ]
  }
 ],
 "metadata": {
  "celltoolbar": "Nbtutor - export exercises",
  "jupytext": {
   "cell_metadata_filter": "-run_control,-deletable,-editable,-jupyter,-slideshow"
  },
  "kernelspec": {
   "display_name": "Python 3 (ipykernel)",
   "language": "python",
   "name": "python3"
  },
  "language_info": {
   "codemirror_mode": {
    "name": "ipython",
    "version": 3
   },
   "file_extension": ".py",
   "mimetype": "text/x-python",
   "name": "python",
   "nbconvert_exporter": "python",
   "pygments_lexer": "ipython3",
   "version": "3.10.11"
  }
 },
 "nbformat": 4,
 "nbformat_minor": 4
}
