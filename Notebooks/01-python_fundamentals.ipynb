{
 "cells": [
  {
   "cell_type": "markdown",
   "metadata": {},
   "source": [
    "<p><font size=\"6\"><b>Python fundamentals </b></font></p>\n",
    "<p><font size=\"4\"><b> Variables </b></font></p>\n",
    "\n",
    "\n",
    "> *GCCA+ phase 2 - Geopyhton training*  \n",
    "> *June, 2023*\n",
    ">\n",
    "> *© 2023, Jasper Feyen  (<mailto:jasperfeyen@hotmail.com>)*\n",
    "\n",
    "---"
   ]
  },
  {
   "cell_type": "markdown",
   "metadata": {},
   "source": [
    "<hr>"
   ]
  },
  {
   "cell_type": "markdown",
   "metadata": {
    "jp-MarkdownHeadingCollapsed": true,
    "tags": []
   },
   "source": [
    "#### Objectief\n",
    "In deze notebook worden de basis-principes van de python-programeertaal behandelt.\n",
    "\n",
    "LET OP! Dit heeft enkel tot doel de basis-principes even te belichten. Dit is echter geen python-cursus. Er bestaan wel veel goede online-tutorials:\n",
    "\n",
    "Follow along:\n",
    "* [https://pythongis.org/index.html](https://pythongis.org/index.html)\n",
    "\n",
    "\n",
    "#### Inhoud\n",
    "1) Eerste Code in Python - Print and Input\n",
    "2) Comments\n",
    "3) Variables\n",
    "4) Data Types - Numbers and String"
   ]
  },
  {
   "cell_type": "markdown",
   "metadata": {
    "tags": []
   },
   "source": [
    "## Eerste Code in Python - Hello world!"
   ]
  },
  {
   "cell_type": "markdown",
   "metadata": {
    "tags": []
   },
   "source": [
    "De eerste code in elke programmeertaal is steeds het begroeten van de werelen: 'hello world'."
   ]
  },
  {
   "cell_type": "code",
   "execution_count": null,
   "metadata": {
    "tags": []
   },
   "outputs": [],
   "source": [
    "print(\"Hello world\")"
   ]
  },
  {
   "cell_type": "code",
   "execution_count": null,
   "metadata": {
    "tags": []
   },
   "outputs": [],
   "source": [
    "name = input('Wat is uw naam : ')\n",
    "print(\"Uw naam is: \", name)"
   ]
  },
  {
   "cell_type": "markdown",
   "metadata": {},
   "source": [
    "## Comments in Code\n",
    "Door het gebruik van een # kan tekst worden toegevoegd aan python code. Deze tekst wordt genegeerd bij het uitvoeren, en doet dienst als extra verklarende uitleg"
   ]
  },
  {
   "cell_type": "code",
   "execution_count": null,
   "metadata": {
    "tags": []
   },
   "outputs": [],
   "source": [
    "# This is single line comment\n",
    "\n",
    "'''\n",
    "Meerdere lijntjes als comments zetten is ook mogelijk!\n",
    "Line 1\n",
    "Line 2\n",
    "'''\n",
    "\n",
    "print('Hello World!')"
   ]
  },
  {
   "cell_type": "markdown",
   "metadata": {},
   "source": [
    "## Variable"
   ]
  },
  {
   "cell_type": "code",
   "execution_count": null,
   "metadata": {
    "tags": []
   },
   "outputs": [],
   "source": [
    "x = 10 \n",
    "y = \"Lao\"\n",
    "print(x)\n",
    "print(y)"
   ]
  },
  {
   "cell_type": "markdown",
   "metadata": {},
   "source": [
    "<div class=\"alert alert-info\" style=\"font-size:120%\">\n",
    "\n",
    "**Regels voor het aanmaken van een Python variabele**: <br>\n",
    "- Een variabele naam moet steeds starten met een *letter* of een _ underscore. Een variabele starten met een getal is niet mogelijk.\n",
    "- Variabelen zijn hoofdletter-gevoelig (Naam en naam zijn 2 verschillende variabelnamen)\n",
    "</div>"
   ]
  },
  {
   "cell_type": "markdown",
   "metadata": {},
   "source": [
    "## Data Types - Numbers vs strings"
   ]
  },
  {
   "cell_type": "markdown",
   "metadata": {},
   "source": [
    "*Numbers* : getallen. Er bestaan verschillende types\n",
    "- Integer - Examples: 5, 6000, 80, -1, -15, -5890, 0\n",
    "- Floats - Examples: -3.5, -400.8945, 50.1547\n",
    "- Complex Numbers - Examples: -3 + 2j, 10 + 1584j\n",
    "- Booleans - True, False"
   ]
  },
  {
   "cell_type": "code",
   "execution_count": null,
   "metadata": {
    "tags": []
   },
   "outputs": [],
   "source": [
    "# Voorbeeld: 4 variabelen x1 -> x4, worden aangemaakt met elk een ander datatype. via type() kan het datatype achterhaald worden\n",
    "\n",
    "x1 = 10\n",
    "x2 = 15.4\n",
    "x3 = 3+5j\n",
    "x4 = True\n",
    "\n",
    "print(x1)\n",
    "print(type(x1))\n",
    "print(x2)\n",
    "print(type(x2))\n",
    "print(x3)\n",
    "print(type(x3))\n",
    "print(x4)\n",
    "print(type(x4))"
   ]
  },
  {
   "cell_type": "markdown",
   "metadata": {},
   "source": [
    "### Operaties tussen variabelen"
   ]
  },
  {
   "cell_type": "code",
   "execution_count": null,
   "metadata": {
    "tags": []
   },
   "outputs": [],
   "source": [
    "x = 5\n",
    "y = 17\n",
    "\n",
    "print(x+y) #som\n",
    "\n",
    "print(x-y) #verschil\n",
    "\n",
    "print(x*y) #vermenigvuldiging\n",
    "\n",
    "print(y/x) #delen\n",
    "\n",
    "print(x**2) #exponent"
   ]
  },
  {
   "cell_type": "markdown",
   "metadata": {
    "tags": []
   },
   "source": [
    "<div class=\"alert alert-success\">\n",
    "\n",
    "**Oefening 1**:\n",
    "\n",
    "Schrijf een code waarin je volgende som uitrekent : 2*X^5 + 5*X^4 + 4*X^2 + 14 \n",
    "Waarbij je variabele X = 15, X = -2 en X = 0 neemt\n",
    "    \n",
    "</div>"
   ]
  },
  {
   "cell_type": "code",
   "execution_count": null,
   "metadata": {
    "tags": []
   },
   "outputs": [],
   "source": [
    "# %load _solutions/01-python_fundamentals_1.py"
   ]
  },
  {
   "cell_type": "markdown",
   "metadata": {},
   "source": [
    "### Strings : tekst weergeven\n",
    "Een string word aangemaakt met enkele of dubbele aanhalingstekens \n",
    "\n",
    "'hello world' is dus gelijk aan \"hello world\""
   ]
  },
  {
   "cell_type": "code",
   "execution_count": null,
   "metadata": {
    "tags": []
   },
   "outputs": [],
   "source": [
    "# Voorbeeld: combineren van stukken string\n",
    "\n",
    "x = \"My name is \"\n",
    "y = \"Jhon\"\n",
    "# Een som van strings plakt 2 stukken strings aan elkaar\n",
    "z =  x + y  \n",
    "print(z)"
   ]
  },
  {
   "cell_type": "code",
   "execution_count": null,
   "metadata": {
    "tags": []
   },
   "outputs": [],
   "source": [
    "#Vervolgens: indexes in python.\n",
    "\n",
    "a = \"Hello, World!\"\n",
    "\n",
    "'''string indexing\n",
    "Eerste karakter staat op index nul, tweede teken is index één, etc....\n",
    "'''\n",
    "print(a[1])\n",
    "print(a[2:5])"
   ]
  },
  {
   "cell_type": "markdown",
   "metadata": {},
   "source": [
    "### Datatype wijzigen (Casting)\n",
    "\n",
    "Soms moeten we bepaalde gegevens dwingen om een specifiek gegevenstype te zijn. Bijvoorbeeld, wanneer we iets invoeren in een programma, komt het meestal als tekst (string). Als we berekeningen willen uitvoeren op die invoer, moeten we deze omzetten naar een numeriek gegevenstype zoals int / float."
   ]
  },
  {
   "cell_type": "code",
   "execution_count": null,
   "metadata": {
    "tags": []
   },
   "outputs": [],
   "source": [
    "a = int(10.15)\n",
    "b = int(\"5\")\n",
    "\n",
    "print(a, type(a))\n",
    "print(b, type(b))\n",
    "\n",
    "print('\\n---------------------\\n')\n",
    "\n",
    "a = float(12)\n",
    "b = float(\"15.9\")\n",
    "\n",
    "print(a, type(a))\n",
    "print(b, type(b))\n",
    "\n",
    "print('\\n---------------------\\n')\n",
    "\n",
    "a = str(5)\n",
    "b = str(4.5)\n",
    "\n",
    "print(a, type(a))\n",
    "print(b, type(b))"
   ]
  },
  {
   "cell_type": "markdown",
   "metadata": {
    "tags": []
   },
   "source": [
    "## Importeren van python packages"
   ]
  },
  {
   "cell_type": "markdown",
   "metadata": {},
   "source": [
    "Standaard bevat python al heel wat functionaliteiten (zoals hierboven gezien), maar de echte kracht ligt bij de gigantische hoeveelheden aan packages. Om een geïnstalleerd pakket toe te voegen:"
   ]
  },
  {
   "cell_type": "code",
   "execution_count": null,
   "metadata": {
    "tags": []
   },
   "outputs": [],
   "source": [
    "# Importeer de Math-bibliotheek, deze werd reeds geïnstalleerd\n",
    "import math as math\n",
    "\n",
    "# Math bevat heel wat wiskundige functies, zoals het opvragen van pi:\n",
    "# Om een functie van een pakket te gebruiken, geldt steeds volgende vorm: NAAM_PAKKET.FUNCTIE()\n",
    "print(math.pi)"
   ]
  },
  {
   "cell_type": "markdown",
   "metadata": {
    "tags": []
   },
   "source": [
    "<div class=\"alert alert-success\">\n",
    "\n",
    "**Oefening 2**:\n",
    "\n",
    "Schrijf een simpele code waarin je 3 strings als afzonderlijke variabele ingeeft, en een resulterende string die deze 3 string-variabelen samenplakt.\n",
    "    \n",
    "</div>"
   ]
  },
  {
   "cell_type": "code",
   "execution_count": null,
   "metadata": {
    "tags": []
   },
   "outputs": [],
   "source": [
    "# %load _solutions/01-python_fundamentals_2.py"
   ]
  },
  {
   "cell_type": "markdown",
   "metadata": {
    "tags": []
   },
   "source": [
    "<div class=\"alert alert-success\">\n",
    "\n",
    "**Oefening 3**:\n",
    "\n",
    "Schrijf een simpele code waarin je de straal van een cirkel opvraagt, en de oppervlakte als resultaat meegeeft.\n",
    "    \n",
    "</div>"
   ]
  },
  {
   "cell_type": "code",
   "execution_count": null,
   "metadata": {
    "tags": []
   },
   "outputs": [],
   "source": [
    "# %load _solutions/01-python_fundamentals_3.py\n"
   ]
  },
  {
   "cell_type": "markdown",
   "metadata": {
    "tags": []
   },
   "source": [
    "# 2 - Data Structuur in python"
   ]
  },
  {
   "cell_type": "markdown",
   "metadata": {},
   "source": [
    "## Lijsten (Lists)\n",
    "\n",
    "\n"
   ]
  },
  {
   "cell_type": "markdown",
   "metadata": {
    "tags": []
   },
   "source": [
    "* De lengte van een lijst verkrijgen: Om de lengte van een lijst te bepalen, kun je de ingebouwde functie len() gebruiken. Deze functie geeft het aantal elementen in de lijst terug. Hier is een voorbeeld:"
   ]
  },
  {
   "cell_type": "code",
   "execution_count": null,
   "metadata": {
    "tags": []
   },
   "outputs": [],
   "source": [
    "my_list = [1, 2, 3, 4, 5]\n",
    "lengte = len(my_list)\n",
    "print(lengte)  # Output: 5"
   ]
  },
  {
   "cell_type": "markdown",
   "metadata": {
    "tags": []
   },
   "source": [
    "* Elementen uit een lijst halen: Je kunt individuele elementen uit een lijst halen door middel van indexering. De indexering begint bij 0 voor het eerste element."
   ]
  },
  {
   "cell_type": "code",
   "execution_count": null,
   "metadata": {
    "tags": []
   },
   "outputs": [],
   "source": [
    "my_list = ['appel', 'banaan', 'sinaasappel']\n",
    "eerste_element = my_list[0]\n",
    "print(eerste_element)  # Output: 'appel'"
   ]
  },
  {
   "cell_type": "markdown",
   "metadata": {
    "tags": []
   },
   "source": [
    "* Een lijst bewerken: Lijsten in Python zijn veranderlijk, wat betekent dat je hun elementen kunt wijzigen. Je kunt nieuwe waarden toewijzen aan specifieke posities of methoden zoals append(), insert(), extend(), enzovoort gebruiken. Hier zijn een paar voorbeelden:"
   ]
  },
  {
   "cell_type": "code",
   "execution_count": null,
   "metadata": {},
   "outputs": [],
   "source": [
    "my_list = [1, 2, 3, 4, 5]\n",
    "\n",
    "# Een nieuwe waarde toewijzen aan een positie\n",
    "my_list[2] = 10\n",
    "print(my_list)  # Output: [1, 2, 10, 4, 5]\n",
    "\n",
    "# Een element aan het einde toevoegen\n",
    "my_list.append(6)\n",
    "print(my_list)  # Output: [1, 2, 10, 4, 5, 6]\n"
   ]
  },
  {
   "cell_type": "markdown",
   "metadata": {
    "tags": []
   },
   "source": [
    "* Een lijst omkeren en sorteren: Om een lijst om te keren, kun je de reverse() methode gebruiken. Om een lijst te sorteren, kun je de sort() methode gebruiken. Hier zijn voorbeelden:"
   ]
  },
  {
   "cell_type": "code",
   "execution_count": null,
   "metadata": {
    "tags": []
   },
   "outputs": [],
   "source": [
    "my_list = [3, 1, 4, 2, 5]\n",
    "\n",
    "# De lijst omkeren\n",
    "my_list.reverse()\n",
    "print(my_list)  # Output: [5, 2, 4, 1, 3]\n",
    "\n",
    "# De lijst sorteren\n",
    "my_list.sort()\n",
    "print(my_list)  # Output: [1, 2, 3, 4, 5]\n"
   ]
  },
  {
   "cell_type": "markdown",
   "metadata": {},
   "source": [
    "# 2) Dictionaries\n",
    "\n",
    "Een dictionary in Python is een verzameling van sleutel-waarde ('key' - 'value') paren. De sleutels moeten uniek zijn en worden gebruikt om waarden op te halen uit de dictionary."
   ]
  },
  {
   "cell_type": "code",
   "execution_count": null,
   "metadata": {
    "tags": []
   },
   "outputs": [],
   "source": [
    "# Een lege dictionary maken:\n",
    "mijn_dictionary = {}\n",
    "\n",
    "# Een dictionary met enkele key-value paren maken:\n",
    "persoon = {\"naam\": \"John\", \"leeftijd\": 30, \"stad\": \"Amsterdam\"}"
   ]
  },
  {
   "cell_type": "markdown",
   "metadata": {},
   "source": [
    "Op basis van de sleutel kan een bepaalde waarde worden opgehaald"
   ]
  },
  {
   "cell_type": "code",
   "execution_count": null,
   "metadata": {
    "tags": []
   },
   "outputs": [],
   "source": [
    "# Waarden ophalen uit een dictionary met behulp van de sleutel:\n",
    "naam = persoon[\"naam\"]\n",
    "leeftijd = persoon[\"leeftijd\"]\n",
    "stad = persoon[\"stad\"]\n",
    "\n",
    "# Waarden toevoegen of wijzigen in een dictionary:\n",
    "persoon[\"beroep\"] = \"ingenieur\"\n",
    "persoon[\"leeftijd\"] = 31\n",
    "\n",
    "# Waarden verwijderen uit een dictionary:\n",
    "del persoon[\"stad\"]"
   ]
  },
  {
   "cell_type": "code",
   "execution_count": null,
   "metadata": {},
   "outputs": [],
   "source": [
    "'''Lengte van dictionary'''\n",
    "\n",
    "mydictionary = {\"fist\": \"Laos\", \"second\": \"Cambodia\", \"third\": \"Thailand\"}\n",
    "\n",
    "mydictionary_len = len(mydictionary)\n",
    "print(mydictionary_len)"
   ]
  },
  {
   "cell_type": "markdown",
   "metadata": {},
   "source": [
    "Tot slot bekijken we of bepaalde keys aanwezig zijn in de dictionary"
   ]
  },
  {
   "cell_type": "code",
   "execution_count": null,
   "metadata": {
    "tags": []
   },
   "outputs": [],
   "source": [
    "mydictionary = {\"fist\": \"Laos\", \"second\": \"Cambodia\", \"third\": \"Thailand\"}\n",
    "\n",
    "print(\"fist\" in mydictionary)\n",
    "print(\"fist\" not in mydictionary)"
   ]
  },
  {
   "cell_type": "markdown",
   "metadata": {
    "tags": []
   },
   "source": [
    "# 3- Enkele 'basis' python programmeermethodes"
   ]
  },
  {
   "cell_type": "markdown",
   "metadata": {
    "tags": []
   },
   "source": [
    "## 3.1 - If - Else statement"
   ]
  },
  {
   "cell_type": "markdown",
   "metadata": {},
   "source": [
    "In onderstaand voorbeeld gaan we, afhankelijk van de waarde van een getal, een andere statement printen"
   ]
  },
  {
   "cell_type": "code",
   "execution_count": null,
   "metadata": {},
   "outputs": [],
   "source": [
    "x = -1\n",
    "\n",
    "if (x < 0):\n",
    "    print(\"x is negatief\")\n",
    "else:\n",
    "    print(\"x is positief\")   "
   ]
  },
  {
   "cell_type": "markdown",
   "metadata": {},
   "source": [
    "Verder is het mogelijk om meerdere 'stappen' in de if-cyclus te incorporeren met de 'elif'.\n",
    "Elif kan meerdere keren herhaald worden, terwijl if en else steeds resp. de cylus starten en eindigen.\n"
   ]
  },
  {
   "cell_type": "code",
   "execution_count": null,
   "metadata": {
    "tags": []
   },
   "outputs": [],
   "source": [
    "x = 1500\n",
    "\n",
    "if (x < 100):\n",
    "    print(\"x is kleiner dan 100\")\n",
    "elif (x < 1000):\n",
    "    print(\"x ligt tussen 100 en 1000\")\n",
    "else:\n",
    "    print(\"x is groter dan 1000\")"
   ]
  },
  {
   "cell_type": "markdown",
   "metadata": {
    "tags": []
   },
   "source": [
    "### Logische vergelijkingen (logical operations)"
   ]
  },
  {
   "cell_type": "markdown",
   "metadata": {},
   "source": [
    "In vorig voorbeeld kwam het al voor, maar logical operators worden veel gebruikt in deze if- cycle. Hieronder is een samenvatting van enkele mogelijke logische operatoren:"
   ]
  },
  {
   "cell_type": "markdown",
   "metadata": {},
   "source": [
    "| Operator | Beschrijving | Voorbeeld |\n",
    "|----------|-------------|-----------|\n",
    "| and      | Logische AND-operator. Geeft waar (True) terug als beide operanden waar zijn, anders onwaar (False). | `x = True and False` |\n",
    "| or       | Logische OR-operator. Geeft waar (True) terug als ten minste één van de operanden waar is, anders onwaar (False). | `x = True or False` |\n",
    "| not      | Logische NOT-operator. Geeft de omgekeerde waarde terug van de operand. Als de operand waar (True) is, retourneert het onwaar (False) en vice versa. | `x = not True` |\n",
    "| ==       | Gelijkheidsoperator. Geeft waar (True) terug als beide operanden gelijk zijn, anders onwaar (False). | `x  == 5` |\n",
    "| !=       | Ongelijkheidsoperator. Geeft waar (True) terug als beide operanden ongelijk zijn, anders onwaar (False). | `x != 5` |\n",
    "| >        | Groter-dan-operator. Geeft waar (True) terug als de linker operand groter is dan de rechter operand, anders onwaar (False). | `x > 5` |\n",
    "| <        | Kleiner-dan-operator. Geeft waar (True) terug als de linker operand kleiner is dan de rechter operand, anders onwaar (False). | `x < 5` |\n",
    "| >=       | Groter-dan-of-gelijk-aan-operator. Geeft waar (True) terug als de linker operand groter is dan of gelijk is aan de rechter operand, anders onwaar (False). | `x >= 5` |\n",
    "| <=       | Kleiner-dan-of-gelijk-aan-operator. Geeft waar (True) terug als de linker operand kleiner is dan of gelijk is aan de rechter operand, anders onwaar (False). | `x <= 5` |\n"
   ]
  },
  {
   "cell_type": "code",
   "execution_count": null,
   "metadata": {
    "tags": []
   },
   "outputs": [],
   "source": [
    "#Bijvoorbeeld\n",
    "x= 6\n",
    "\n",
    "print(x> 5)\n",
    "print(x<=4)\n",
    "print(x != 18)"
   ]
  },
  {
   "cell_type": "markdown",
   "metadata": {
    "tags": []
   },
   "source": [
    "<div class=\"alert alert-success\">\n",
    "\n",
    "**Oefening 4**:\n",
    "\n",
    "Schrijf een stukje code om na te gaan of een getal positief, negatief of gelijk is aan 0\n",
    "    \n",
    "</div>"
   ]
  },
  {
   "cell_type": "code",
   "execution_count": null,
   "metadata": {
    "tags": []
   },
   "outputs": [],
   "source": [
    "# %load _solutions/01-python_fundamentals_4.py\n"
   ]
  },
  {
   "cell_type": "markdown",
   "metadata": {},
   "source": [
    "# 3.2 - FOR loops"
   ]
  },
  {
   "cell_type": "markdown",
   "metadata": {},
   "source": [
    "Een for-lus is een veelgebruikte constructie in Python om herhaalde taken uit te voeren. Het stelt je in staat om een blok code meerdere keren uit te voeren, waarbij elke iteratie wordt gevolgd door een specifieke variabele die verandert volgens de gegeven instructies."
   ]
  },
  {
   "cell_type": "code",
   "execution_count": null,
   "metadata": {
    "tags": []
   },
   "outputs": [],
   "source": [
    "numlist = [0, 1, 2, 3, 4, 5, 6, 7, 8, 9, 10]\n",
    "for x in numlist:\n",
    "  print(x+1)\n",
    "\n",
    "print('\\n---------------------\\n')\n",
    "\n",
    "fruits = [\"apple\", \"mango\", \"pineapple\", \"banana\"]\n",
    "for x in fruits:\n",
    "  print(x)\n",
    "\n",
    "print('\\n---------------------\\n')"
   ]
  },
  {
   "cell_type": "markdown",
   "metadata": {
    "tags": []
   },
   "source": [
    "### range"
   ]
  },
  {
   "cell_type": "markdown",
   "metadata": {},
   "source": [
    "De range() functie in Python wordt gebruikt om een reeks getallen te genereren. Het kan worden gebruikt in verschillende manieren:"
   ]
  },
  {
   "cell_type": "markdown",
   "metadata": {},
   "source": [
    "* range(stop): Genereert een reeks getallen van 0 tot stop - 1."
   ]
  },
  {
   "cell_type": "code",
   "execution_count": null,
   "metadata": {
    "tags": []
   },
   "outputs": [],
   "source": [
    "for num in range(5):\n",
    "    print(num)\n",
    "# Output: 0 1 2 3 4"
   ]
  },
  {
   "cell_type": "markdown",
   "metadata": {
    "tags": []
   },
   "source": [
    "* range(start, stop): Genereert een reeks getallen van start tot stop - 1."
   ]
  },
  {
   "cell_type": "code",
   "execution_count": null,
   "metadata": {
    "tags": []
   },
   "outputs": [],
   "source": [
    "for num in range(2, 7):\n",
    "    print(num)\n",
    "# Output: 2 3 4 5 6"
   ]
  },
  {
   "cell_type": "markdown",
   "metadata": {
    "tags": []
   },
   "source": [
    "* range(start, stop, step): Genereert een reeks getallen van start tot stop - 1 met een bepaalde step (stapgrootte)."
   ]
  },
  {
   "cell_type": "code",
   "execution_count": null,
   "metadata": {
    "tags": []
   },
   "outputs": [],
   "source": [
    "for num in range(1, 10, 2):\n",
    "    print(num)\n",
    "# Output: 1 3 5 7 9"
   ]
  },
  {
   "cell_type": "markdown",
   "metadata": {
    "tags": []
   },
   "source": [
    "<div class=\"alert alert-success\">\n",
    "\n",
    "**Oefening 5**:\n",
    "\n",
    "Schrijf een stukje code om alle oneven getallen tussen 0 en 100 te printen.\n",
    "    \n",
    "</div>"
   ]
  },
  {
   "cell_type": "code",
   "execution_count": null,
   "metadata": {},
   "outputs": [],
   "source": [
    "# %load _solutions/01-python_fundamentals_5.py\n",
    "    "
   ]
  },
  {
   "cell_type": "markdown",
   "metadata": {},
   "source": [
    "# 3.3 - Functies"
   ]
  },
  {
   "cell_type": "markdown",
   "metadata": {},
   "source": [
    "Functies in Python zijn herbruikbare blokken code die specifieke taken uitvoeren wanneer ze worden aangeroepen. Ze helpen bij het organiseren en structureren van code, waardoor het gemakkelijker wordt om taken modulair op te splitsen. Hier is een voorbeeld van een eenvoudige functie in Python:"
   ]
  },
  {
   "cell_type": "code",
   "execution_count": null,
   "metadata": {
    "tags": []
   },
   "outputs": [],
   "source": [
    "def begroet():\n",
    "    print(\"Hallo! Welkom in het UCC te ADEK.\")\n"
   ]
  },
  {
   "cell_type": "code",
   "execution_count": null,
   "metadata": {
    "tags": []
   },
   "outputs": [],
   "source": [
    "# De functie aanroepen:\n",
    "begroet()"
   ]
  },
  {
   "cell_type": "markdown",
   "metadata": {},
   "source": [
    "Dit voorbeeld definieert een functie genaamd begroet, die simpelweg de boodschap \"Hallo! Welkom in het UCC te ADEK.\" afdrukt. De functie kan worden aangeroepen door simpelweg begroet() te schrijven. Het resultaat van het aanroepen van de functie zal zijn dat de boodschap wordt afgedrukt.\n",
    "\n",
    "Functies kunnen ook parameters accepteren, waardoor je waarden kunt doorgeven die de functie kan gebruiken bij het uitvoeren van een taak. Hier is een voorbeeld met een functie die een parameter accepteert:"
   ]
  },
  {
   "cell_type": "code",
   "execution_count": null,
   "metadata": {
    "tags": []
   },
   "outputs": [],
   "source": [
    "def begroet(naam):\n",
    "    print(\"Hallo\", naam + \"! Welkom in het UCC.\")\n",
    "\n",
    "# De functie aanroepen met een naam\n",
    "begroet(\"Alice\")\n"
   ]
  },
  {
   "cell_type": "markdown",
   "metadata": {
    "tags": []
   },
   "source": [
    "<div class=\"alert alert-success\">\n",
    "\n",
    "**Oefening 6**:\n",
    "\n",
    "Schrijf een functie die de som neemt van 2 getallen. \n",
    "    \n",
    "Tip: een functie kan meerdere inputparameters bevatten:\n",
    "    \n",
    "Bijvoorbeeld:\n",
    "    \n",
    "    ``` def mijnFunctie(var1, var2):\n",
    "            return var1+var2\n",
    "    ```\n",
    "    \n",
    "</div>"
   ]
  },
  {
   "cell_type": "code",
   "execution_count": null,
   "metadata": {
    "tags": []
   },
   "outputs": [],
   "source": [
    "def takeSum(x1, x2):\n",
    "    y = x1 + x2\n",
    "    return y\n",
    "\n",
    "#Voorbeeld:\n",
    "print(takeSum(3,5))"
   ]
  },
  {
   "cell_type": "code",
   "execution_count": null,
   "metadata": {},
   "outputs": [],
   "source": [
    "# %load _solutions/01-python_fundamentals_6.py"
   ]
  },
  {
   "cell_type": "markdown",
   "metadata": {
    "tags": []
   },
   "source": [
    "# EXTRA:"
   ]
  },
  {
   "cell_type": "markdown",
   "metadata": {},
   "source": [
    "Tuples\n",
    "\n",
    "Tuples are similar to lists but they are immutable which means they can't change after they have created\n",
    "\n",
    "And instead of square brackets in Lists, Tuples use normal brackets"
   ]
  },
  {
   "cell_type": "code",
   "execution_count": null,
   "metadata": {},
   "outputs": [],
   "source": [
    "mylist1 = (1, 2, 3, 4, 5, 6, 7, 8, 9, 10)\n",
    "mylist2 = (\"Laos\", \"Thailand\", \"Cambodia\")\n",
    "mylist3 = (1, 2, 3.5, \"string\", True, 6, 7)\n",
    "\n",
    "print(type(mylist1))\n",
    "\n",
    "print(mylist1)\n",
    "print(mylist2)\n",
    "print(mylist3)"
   ]
  },
  {
   "cell_type": "markdown",
   "metadata": {},
   "source": [
    "### Oefening 3\n",
    "\n",
    "Perform same operations as Lists for Tuples also\n",
    "    - getting length\n",
    "    - accessing the element\n",
    "    - editing the tuple\n",
    "    - reversing and sorting\n",
    "    - check element available or not"
   ]
  },
  {
   "cell_type": "markdown",
   "metadata": {},
   "source": [
    "### Lists can be converted to a tuples and tuples can be converted to lists"
   ]
  },
  {
   "cell_type": "code",
   "execution_count": null,
   "metadata": {},
   "outputs": [],
   "source": [
    "a = [1, 2, 3, 4, 5]\n",
    "b = tuple(a)\n",
    "print(b)\n",
    "\n",
    "print('\\n---------------------\\n')\n",
    "\n",
    "a = (1, 2, 3, 4, 5)\n",
    "b = list(a)\n",
    "print(b)"
   ]
  }
 ],
 "metadata": {
  "kernelspec": {
   "display_name": "Python 3 (ipykernel)",
   "language": "python",
   "name": "python3"
  },
  "language_info": {
   "codemirror_mode": {
    "name": "ipython",
    "version": 3
   },
   "file_extension": ".py",
   "mimetype": "text/x-python",
   "name": "python",
   "nbconvert_exporter": "python",
   "pygments_lexer": "ipython3",
   "version": "3.10.11"
  }
 },
 "nbformat": 4,
 "nbformat_minor": 4
}
